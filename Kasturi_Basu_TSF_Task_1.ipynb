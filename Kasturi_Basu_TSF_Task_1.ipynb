{
 "cells": [
  {
   "cell_type": "markdown",
   "id": "76869018",
   "metadata": {},
   "source": [
    "<h1> <b> <font color=\"limegreen\"> GRIP: The Sparks Foundation </font> </b> </h1>\n",
    "\n",
    "<b> Data Science and Business Analytics Internship </b>\n",
    "\n",
    "<b> Task 1: Prediction Using Supervised ML </b>\n",
    "\n",
    "<b> Submitted By-  Kasturi Basu </b>"
   ]
  },
  {
   "cell_type": "markdown",
   "id": "3e722876",
   "metadata": {},
   "source": [
    " <h3> Prediction of percentage of a student based on the number of hours studied, using Simple Linear Regression. </h3>"
   ]
  },
  {
   "cell_type": "markdown",
   "id": "d43ddf24",
   "metadata": {},
   "source": [
    " <li> <b> Importing Necessary Libraries </b> </li>"
   ]
  },
  {
   "cell_type": "code",
   "execution_count": 35,
   "id": "e7b46f62",
   "metadata": {},
   "outputs": [
    {
     "name": "stdout",
     "output_type": "stream",
     "text": [
      "Libraries imported successfully!\n"
     ]
    }
   ],
   "source": [
    "import numpy as np\n",
    "import pandas as pd\n",
    "import matplotlib.pyplot as plt\n",
    "import seaborn as sns\n",
    "print(\"Libraries imported successfully!\")"
   ]
  },
  {
   "cell_type": "markdown",
   "id": "823198a9",
   "metadata": {},
   "source": [
    "<li> <b> Reading given data from remote url </b> </li>"
   ]
  },
  {
   "cell_type": "code",
   "execution_count": 36,
   "id": "0f0b1163",
   "metadata": {},
   "outputs": [
    {
     "name": "stdout",
     "output_type": "stream",
     "text": [
      "Data imported successfully!\n"
     ]
    }
   ],
   "source": [
    "url = \"https://bit.ly/w-data\"\n",
    "data=pd.read_csv(url)\n",
    "print(\"Data imported successfully!\")"
   ]
  },
  {
   "cell_type": "markdown",
   "id": "05b1cd11",
   "metadata": {},
   "source": [
    "<li> <b> Exploring given data </b> </li> "
   ]
  },
  {
   "cell_type": "code",
   "execution_count": 37,
   "id": "471dfd9f",
   "metadata": {},
   "outputs": [
    {
     "name": "stdout",
     "output_type": "stream",
     "text": [
      "   Hours  Scores\n",
      "0    2.5      21\n",
      "1    5.1      47\n",
      "2    3.2      27\n",
      "3    8.5      75\n",
      "4    3.5      30\n",
      "5    1.5      20\n",
      "6    9.2      88\n",
      "7    5.5      60\n",
      "8    8.3      81\n",
      "9    2.7      25\n",
      "The shape of the data given: (25, 2)\n"
     ]
    }
   ],
   "source": [
    "print(data.head(10))\n",
    "shape=data.shape\n",
    "print(f'The shape of the data given: {shape}')"
   ]
  },
  {
   "cell_type": "code",
   "execution_count": 38,
   "id": "7df660c5",
   "metadata": {},
   "outputs": [
    {
     "data": {
      "text/html": [
       "<div>\n",
       "<style scoped>\n",
       "    .dataframe tbody tr th:only-of-type {\n",
       "        vertical-align: middle;\n",
       "    }\n",
       "\n",
       "    .dataframe tbody tr th {\n",
       "        vertical-align: top;\n",
       "    }\n",
       "\n",
       "    .dataframe thead th {\n",
       "        text-align: right;\n",
       "    }\n",
       "</style>\n",
       "<table border=\"1\" class=\"dataframe\">\n",
       "  <thead>\n",
       "    <tr style=\"text-align: right;\">\n",
       "      <th></th>\n",
       "      <th>Hours</th>\n",
       "      <th>Scores</th>\n",
       "    </tr>\n",
       "  </thead>\n",
       "  <tbody>\n",
       "    <tr>\n",
       "      <th>count</th>\n",
       "      <td>25.000000</td>\n",
       "      <td>25.000000</td>\n",
       "    </tr>\n",
       "    <tr>\n",
       "      <th>mean</th>\n",
       "      <td>5.012000</td>\n",
       "      <td>51.480000</td>\n",
       "    </tr>\n",
       "    <tr>\n",
       "      <th>std</th>\n",
       "      <td>2.525094</td>\n",
       "      <td>25.286887</td>\n",
       "    </tr>\n",
       "    <tr>\n",
       "      <th>min</th>\n",
       "      <td>1.100000</td>\n",
       "      <td>17.000000</td>\n",
       "    </tr>\n",
       "    <tr>\n",
       "      <th>25%</th>\n",
       "      <td>2.700000</td>\n",
       "      <td>30.000000</td>\n",
       "    </tr>\n",
       "    <tr>\n",
       "      <th>50%</th>\n",
       "      <td>4.800000</td>\n",
       "      <td>47.000000</td>\n",
       "    </tr>\n",
       "    <tr>\n",
       "      <th>75%</th>\n",
       "      <td>7.400000</td>\n",
       "      <td>75.000000</td>\n",
       "    </tr>\n",
       "    <tr>\n",
       "      <th>max</th>\n",
       "      <td>9.200000</td>\n",
       "      <td>95.000000</td>\n",
       "    </tr>\n",
       "  </tbody>\n",
       "</table>\n",
       "</div>"
      ],
      "text/plain": [
       "           Hours     Scores\n",
       "count  25.000000  25.000000\n",
       "mean    5.012000  51.480000\n",
       "std     2.525094  25.286887\n",
       "min     1.100000  17.000000\n",
       "25%     2.700000  30.000000\n",
       "50%     4.800000  47.000000\n",
       "75%     7.400000  75.000000\n",
       "max     9.200000  95.000000"
      ]
     },
     "execution_count": 38,
     "metadata": {},
     "output_type": "execute_result"
    }
   ],
   "source": [
    "data.describe()"
   ]
  },
  {
   "cell_type": "code",
   "execution_count": 39,
   "id": "a255238f",
   "metadata": {},
   "outputs": [
    {
     "name": "stdout",
     "output_type": "stream",
     "text": [
      "<class 'pandas.core.frame.DataFrame'>\n",
      "RangeIndex: 25 entries, 0 to 24\n",
      "Data columns (total 2 columns):\n",
      " #   Column  Non-Null Count  Dtype  \n",
      "---  ------  --------------  -----  \n",
      " 0   Hours   25 non-null     float64\n",
      " 1   Scores  25 non-null     int64  \n",
      "dtypes: float64(1), int64(1)\n",
      "memory usage: 528.0 bytes\n"
     ]
    }
   ],
   "source": [
    "data.info()"
   ]
  },
  {
   "cell_type": "markdown",
   "id": "0f7c9527",
   "metadata": {},
   "source": [
    "<li> <b> Plotting the data for further knowledge, using Scatter Diagram </b> </li>"
   ]
  },
  {
   "cell_type": "code",
   "execution_count": 40,
   "id": "71525678",
   "metadata": {},
   "outputs": [
    {
     "data": {
      "image/png": "[encoded data removed]",
      "text/plain": [
       "<Figure size 432x288 with 1 Axes>"
      ]
     },
     "metadata": {
      "needs_background": "light"
     },
     "output_type": "display_data"
    }
   ],
   "source": [
    "data.plot(kind='scatter',x='Hours', y='Scores', color='green')\n",
    "plt.title('Pattern of Score obtained with respect to Hours studied')\n",
    "plt.xlabel('Hours Studied')\n",
    "plt.ylabel('Score Obtained')\n",
    "plt.show()"
   ]
  },
  {
   "cell_type": "markdown",
   "id": "a69133e4",
   "metadata": {},
   "source": [
    "<li> <b> Verifying the correlation. </b> </li>"
   ]
  },
  {
   "cell_type": "code",
   "execution_count": 41,
   "id": "3655a419",
   "metadata": {},
   "outputs": [
    {
     "data": {
      "text/html": [
       "<div>\n",
       "<style scoped>\n",
       "    .dataframe tbody tr th:only-of-type {\n",
       "        vertical-align: middle;\n",
       "    }\n",
       "\n",
       "    .dataframe tbody tr th {\n",
       "        vertical-align: top;\n",
       "    }\n",
       "\n",
       "    .dataframe thead th {\n",
       "        text-align: right;\n",
       "    }\n",
       "</style>\n",
       "<table border=\"1\" class=\"dataframe\">\n",
       "  <thead>\n",
       "    <tr style=\"text-align: right;\">\n",
       "      <th></th>\n",
       "      <th>Hours</th>\n",
       "      <th>Scores</th>\n",
       "    </tr>\n",
       "  </thead>\n",
       "  <tbody>\n",
       "    <tr>\n",
       "      <th>Hours</th>\n",
       "      <td>1.000000</td>\n",
       "      <td>0.976191</td>\n",
       "    </tr>\n",
       "    <tr>\n",
       "      <th>Scores</th>\n",
       "      <td>0.976191</td>\n",
       "      <td>1.000000</td>\n",
       "    </tr>\n",
       "  </tbody>\n",
       "</table>\n",
       "</div>"
      ],
      "text/plain": [
       "           Hours    Scores\n",
       "Hours   1.000000  0.976191\n",
       "Scores  0.976191  1.000000"
      ]
     },
     "execution_count": 41,
     "metadata": {},
     "output_type": "execute_result"
    }
   ],
   "source": [
    "data.corr(method='pearson')"
   ]
  },
  {
   "cell_type": "code",
   "execution_count": 42,
   "id": "4ca020f2",
   "metadata": {},
   "outputs": [
    {
     "data": {
      "text/html": [
       "<div>\n",
       "<style scoped>\n",
       "    .dataframe tbody tr th:only-of-type {\n",
       "        vertical-align: middle;\n",
       "    }\n",
       "\n",
       "    .dataframe tbody tr th {\n",
       "        vertical-align: top;\n",
       "    }\n",
       "\n",
       "    .dataframe thead th {\n",
       "        text-align: right;\n",
       "    }\n",
       "</style>\n",
       "<table border=\"1\" class=\"dataframe\">\n",
       "  <thead>\n",
       "    <tr style=\"text-align: right;\">\n",
       "      <th></th>\n",
       "      <th>Hours</th>\n",
       "      <th>Scores</th>\n",
       "    </tr>\n",
       "  </thead>\n",
       "  <tbody>\n",
       "    <tr>\n",
       "      <th>Hours</th>\n",
       "      <td>1.000000</td>\n",
       "      <td>0.971891</td>\n",
       "    </tr>\n",
       "    <tr>\n",
       "      <th>Scores</th>\n",
       "      <td>0.971891</td>\n",
       "      <td>1.000000</td>\n",
       "    </tr>\n",
       "  </tbody>\n",
       "</table>\n",
       "</div>"
      ],
      "text/plain": [
       "           Hours    Scores\n",
       "Hours   1.000000  0.971891\n",
       "Scores  0.971891  1.000000"
      ]
     },
     "execution_count": 42,
     "metadata": {},
     "output_type": "execute_result"
    }
   ],
   "source": [
    "data.corr(method='spearman')"
   ]
  },
  {
   "cell_type": "markdown",
   "id": "bfa071f8",
   "metadata": {},
   "source": [
    "<li> <b> Detecting Outliers. </b> </li>"
   ]
  },
  {
   "cell_type": "code",
   "execution_count": 43,
   "id": "3b729a43",
   "metadata": {},
   "outputs": [],
   "source": [
    "#Storing data attributes as individual series to plot them individually.\n",
    "hours=data['Hours']\n",
    "scores=data['Scores']"
   ]
  },
  {
   "cell_type": "code",
   "execution_count": 44,
   "id": "493730aa",
   "metadata": {},
   "outputs": [
    {
     "data": {
      "text/plain": [
       "<AxesSubplot:>"
      ]
     },
     "execution_count": 44,
     "metadata": {},
     "output_type": "execute_result"
    },
    {
     "data": {
      "image/png": "[encoded data removed]",
      "text/plain": [
       "<Figure size 432x288 with 1 Axes>"
      ]
     },
     "metadata": {
      "needs_background": "light"
     },
     "output_type": "display_data"
    }
   ],
   "source": [
    "#Plotting hours data to check for any outlier\n",
    "sns.boxplot(data=hours, orient = 'v', )"
   ]
  },
  {
   "cell_type": "code",
   "execution_count": 45,
   "id": "95661323",
   "metadata": {},
   "outputs": [
    {
     "data": {
      "text/plain": [
       "<AxesSubplot:>"
      ]
     },
     "execution_count": 45,
     "metadata": {},
     "output_type": "execute_result"
    },
    {
     "data": {
      "image/png": "[encoded data removed]",
      "text/plain": [
       "<Figure size 432x288 with 1 Axes>"
      ]
     },
     "metadata": {
      "needs_background": "light"
     },
     "output_type": "display_data"
    }
   ],
   "source": [
    "#Plotting scores data to check for any outlier\n",
    "sns.boxplot(data=scores, orient = 'v')"
   ]
  },
  {
   "cell_type": "markdown",
   "id": "248a7eee",
   "metadata": {},
   "source": [
    "<b> The above boxplots depict that there is no outlier in either of the data attributes. Hence, We are good to go! </b>"
   ]
  },
  {
   "cell_type": "markdown",
   "id": "4b4f1a8e",
   "metadata": {},
   "source": [
    "<li> <b> Preparing Data </b> </li>"
   ]
  },
  {
   "cell_type": "code",
   "execution_count": 46,
   "id": "1eed2423",
   "metadata": {},
   "outputs": [],
   "source": [
    "X = data.iloc[:, :-1].values   #x=attributes\n",
    "y = data.iloc[:, 1].values     #y=labels"
   ]
  },
  {
   "cell_type": "markdown",
   "id": "f6f4f103",
   "metadata": {},
   "source": [
    "<li> <b> Splitting data for training and testing. </b> </li>"
   ]
  },
  {
   "cell_type": "code",
   "execution_count": 47,
   "id": "1bbededa",
   "metadata": {},
   "outputs": [
    {
     "name": "stdout",
     "output_type": "stream",
     "text": [
      "The data is divided into 75% training data and 25% test data.\n"
     ]
    }
   ],
   "source": [
    "from sklearn.model_selection import train_test_split\n",
    "X_train, X_test, y_train, y_test = train_test_split(X, y, test_size=0.25, random_state=0)\n",
    " \n",
    "print('The data is divided into 75% training data and 25% test data.')"
   ]
  },
  {
   "cell_type": "markdown",
   "id": "098a365b",
   "metadata": {},
   "source": [
    "<li> <b> Traning Model </b> </li>"
   ]
  },
  {
   "cell_type": "code",
   "execution_count": 49,
   "id": "0df54831",
   "metadata": {},
   "outputs": [
    {
     "name": "stdout",
     "output_type": "stream",
     "text": [
      "Training Completed!\n"
     ]
    }
   ],
   "source": [
    "from sklearn.linear_model import LinearRegression \n",
    "reg=LinearRegression()\n",
    "reg.fit(X_train, y_train)\n",
    "print('Training Completed!')"
   ]
  },
  {
   "cell_type": "code",
   "execution_count": 50,
   "id": "489689c6",
   "metadata": {},
   "outputs": [
    {
     "data": {
      "image/png": "[encoded data removed]",
      "text/plain": [
       "<Figure size 432x288 with 1 Axes>"
      ]
     },
     "metadata": {
      "needs_background": "light"
     },
     "output_type": "display_data"
    }
   ],
   "source": [
    "m=reg.coef_\n",
    "c=reg.intercept_\n",
    "line=m*X+c\n",
    "plt.scatter(X,y)\n",
    "plt.plot(X,line, color='green')\n",
    "plt.title('Fitted diagram of Hours vs Scores')\n",
    "plt.xlabel('Hours studied')\n",
    "plt.ylabel('Score obtained')\n",
    "plt.show()"
   ]
  },
  {
   "cell_type": "markdown",
   "id": "dd7e0a3c",
   "metadata": {},
   "source": [
    "<li> <b> Comparing the actual data with predicted data. </b> </li>"
   ]
  },
  {
   "cell_type": "code",
   "execution_count": 51,
   "id": "cf26ca1a",
   "metadata": {},
   "outputs": [
    {
     "name": "stdout",
     "output_type": "stream",
     "text": [
      "[[1.5]\n",
      " [3.2]\n",
      " [7.4]\n",
      " [2.5]\n",
      " [5.9]\n",
      " [3.8]\n",
      " [1.9]]\n"
     ]
    }
   ],
   "source": [
    "print(X_test)\n",
    "y_pred=reg.predict(X_test)"
   ]
  },
  {
   "cell_type": "code",
   "execution_count": 52,
   "id": "cb066f86",
   "metadata": {},
   "outputs": [
    {
     "name": "stdout",
     "output_type": "stream",
     "text": [
      "   Actual  Predicted\n",
      "0      20  16.844722\n",
      "1      27  33.745575\n",
      "2      69  75.500624\n",
      "3      30  26.786400\n",
      "4      62  60.588106\n",
      "5      35  39.710582\n",
      "6      24  20.821393\n"
     ]
    }
   ],
   "source": [
    "df=pd.DataFrame({'Actual': y_test,'Predicted':y_pred})\n",
    "print(df)"
   ]
  },
  {
   "cell_type": "code",
   "execution_count": 53,
   "id": "3d102cfd",
   "metadata": {},
   "outputs": [
    {
     "data": {
      "text/plain": [
       "<AxesSubplot:>"
      ]
     },
     "execution_count": 53,
     "metadata": {},
     "output_type": "execute_result"
    },
    {
     "data": {
      "image/png": "[encoded data removed]",
      "text/plain": [
       "<Figure size 432x288 with 1 Axes>"
      ]
     },
     "metadata": {
      "needs_background": "light"
     },
     "output_type": "display_data"
    }
   ],
   "source": [
    "df.plot(kind='line')"
   ]
  },
  {
   "cell_type": "markdown",
   "id": "54b16638",
   "metadata": {},
   "source": [
    "<li> <b> Model Evaluation. </b> </li>"
   ]
  },
  {
   "cell_type": "code",
   "execution_count": 54,
   "id": "43ba4f95",
   "metadata": {},
   "outputs": [
    {
     "name": "stdout",
     "output_type": "stream",
     "text": [
      "Mean_Absolute_Error = 4.130879918502486\n",
      "R2_Score= 0.9367661043365055\n"
     ]
    }
   ],
   "source": [
    "from sklearn import metrics\n",
    "from sklearn.metrics import r2_score\n",
    "print(f'Mean_Absolute_Error = {metrics.mean_absolute_error(y_test,y_pred)}')\n",
    "print(f'R2_Score= {r2_score(y_test, y_pred)}')"
   ]
  },
  {
   "cell_type": "markdown",
   "id": "c5ac9018",
   "metadata": {},
   "source": [
    "<b> The small value of Mean_Absolute_Error states that the chances of wrong prediction is very less.\n",
    "    As well as the large value of R2_score(r_square) tells that our prediction is very precise. </b>"
   ]
  },
  {
   "cell_type": "markdown",
   "id": "5e9f4381",
   "metadata": {},
   "source": [
    "<li> <b> What would be the predicted score if a student studies 9.25 hours/day? </b> </li>"
   ]
  },
  {
   "cell_type": "code",
   "execution_count": 55,
   "id": "e27bde44",
   "metadata": {},
   "outputs": [
    {
     "name": "stdout",
     "output_type": "stream",
     "text": [
      "If a student studies 9.25 hours per day, s/he will score 93.89 % in exam.\n"
     ]
    }
   ],
   "source": [
    "h=9.25\n",
    "s=reg.predict([[h]])\n",
    "\n",
    "print('If a student studies',h, 'hours per day, s/he will score %.2f' %s, '% in exam.')"
   ]
  }
 ],
 "metadata": {
  "kernelspec": {
   "display_name": "Python 3",
   "language": "python",
   "name": "python3"
  },
  "language_info": {
   "codemirror_mode": {
    "name": "ipython",
    "version": 3
   },
   "file_extension": ".py",
   "mimetype": "text/x-python",
   "name": "python",
   "nbconvert_exporter": "python",
   "pygments_lexer": "ipython3",
   "version": "3.9.5"
  }
 },
 "nbformat": 4,
 "nbformat_minor": 5
}
