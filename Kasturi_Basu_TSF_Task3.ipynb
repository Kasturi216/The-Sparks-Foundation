{
 "cells": [
  {
   "cell_type": "markdown",
   "id": "84f8c724",
   "metadata": {},
   "source": [
    "<h1> <b> <font color='Green'>GRIP: The Sparks Foundation</b> </h1>"
   ]
  },
  {
   "cell_type": "markdown",
   "id": "f9d16810",
   "metadata": {},
   "source": [
    "<h3><b> Data Science and Business Analytics Internship </b></h3>"
   ]
  },
  {
   "cell_type": "markdown",
   "id": "7cea2848",
   "metadata": {},
   "source": [
    "<h3><b> Task 3: Exploratory Data Analysis - Retail  </b></h3>"
   ]
  },
  {
   "cell_type": "markdown",
   "id": "a0c5520e",
   "metadata": {},
   "source": [
    "<h3><b> Submitted by: Kasturi Basu </b></h3>"
   ]
  },
  {
   "cell_type": "markdown",
   "id": "c75c47f3",
   "metadata": {},
   "source": [
    "<font color='grey'><h3><b>Trying to find weak areas of business using Exploratory Data Analysis on the dataset 'SampleSuperstore'. </b></h3></font>"
   ]
  },
  {
   "cell_type": "markdown",
   "id": "71d694fd",
   "metadata": {},
   "source": [
    "<font color='green'><li><b> Loading necessary libraries </b></li></font> "
   ]
  },
  {
   "cell_type": "code",
   "execution_count": 3,
   "id": "e20dc0b1",
   "metadata": {},
   "outputs": [
    {
     "name": "stdout",
     "output_type": "stream",
     "text": [
      "Libraries imported successfully!\n"
     ]
    }
   ],
   "source": [
    "import numpy as np\n",
    "import pandas as pd\n",
    "import matplotlib.pyplot as plt\n",
    "import seaborn as sns\n",
    "print('Libraries imported successfully!')"
   ]
  },
  {
   "cell_type": "markdown",
   "id": "4e3b5ee3",
   "metadata": {},
   "source": [
    "<font color='green'><li><b> Loading Data </b></li></font>"
   ]
  },
  {
   "cell_type": "code",
   "execution_count": 4,
   "id": "857f24dd",
   "metadata": {},
   "outputs": [
    {
     "name": "stdout",
     "output_type": "stream",
     "text": [
      "Data loaded successfully!\n"
     ]
    }
   ],
   "source": [
    "location=\"C:/Users/KASTURI/Downloads/SampleSuperstore.csv\"\n",
    "data=pd.read_csv(location)\n",
    "print('Data loaded successfully!')"
   ]
  },
  {
   "cell_type": "markdown",
   "id": "aaaef9ee",
   "metadata": {},
   "source": [
    "<font color='green'><li><b> Exploring Data </b></li></font>"
   ]
  },
  {
   "cell_type": "code",
   "execution_count": 5,
   "id": "685b40c7",
   "metadata": {},
   "outputs": [
    {
     "data": {
      "text/html": [
       "<div>\n",
       "<style scoped>\n",
       "    .dataframe tbody tr th:only-of-type {\n",
       "        vertical-align: middle;\n",
       "    }\n",
       "\n",
       "    .dataframe tbody tr th {\n",
       "        vertical-align: top;\n",
       "    }\n",
       "\n",
       "    .dataframe thead th {\n",
       "        text-align: right;\n",
       "    }\n",
       "</style>\n",
       "<table border=\"1\" class=\"dataframe\">\n",
       "  <thead>\n",
       "    <tr style=\"text-align: right;\">\n",
       "      <th></th>\n",
       "      <th>Ship Mode</th>\n",
       "      <th>Segment</th>\n",
       "      <th>Country</th>\n",
       "      <th>City</th>\n",
       "      <th>State</th>\n",
       "      <th>Postal Code</th>\n",
       "      <th>Region</th>\n",
       "      <th>Category</th>\n",
       "      <th>Sub-Category</th>\n",
       "      <th>Sales</th>\n",
       "      <th>Quantity</th>\n",
       "      <th>Discount</th>\n",
       "      <th>Profit</th>\n",
       "    </tr>\n",
       "  </thead>\n",
       "  <tbody>\n",
       "    <tr>\n",
       "      <th>0</th>\n",
       "      <td>Second Class</td>\n",
       "      <td>Consumer</td>\n",
       "      <td>United States</td>\n",
       "      <td>Henderson</td>\n",
       "      <td>Kentucky</td>\n",
       "      <td>42420</td>\n",
       "      <td>South</td>\n",
       "      <td>Furniture</td>\n",
       "      <td>Bookcases</td>\n",
       "      <td>261.9600</td>\n",
       "      <td>2</td>\n",
       "      <td>0.00</td>\n",
       "      <td>41.9136</td>\n",
       "    </tr>\n",
       "    <tr>\n",
       "      <th>1</th>\n",
       "      <td>Second Class</td>\n",
       "      <td>Consumer</td>\n",
       "      <td>United States</td>\n",
       "      <td>Henderson</td>\n",
       "      <td>Kentucky</td>\n",
       "      <td>42420</td>\n",
       "      <td>South</td>\n",
       "      <td>Furniture</td>\n",
       "      <td>Chairs</td>\n",
       "      <td>731.9400</td>\n",
       "      <td>3</td>\n",
       "      <td>0.00</td>\n",
       "      <td>219.5820</td>\n",
       "    </tr>\n",
       "    <tr>\n",
       "      <th>2</th>\n",
       "      <td>Second Class</td>\n",
       "      <td>Corporate</td>\n",
       "      <td>United States</td>\n",
       "      <td>Los Angeles</td>\n",
       "      <td>California</td>\n",
       "      <td>90036</td>\n",
       "      <td>West</td>\n",
       "      <td>Office Supplies</td>\n",
       "      <td>Labels</td>\n",
       "      <td>14.6200</td>\n",
       "      <td>2</td>\n",
       "      <td>0.00</td>\n",
       "      <td>6.8714</td>\n",
       "    </tr>\n",
       "    <tr>\n",
       "      <th>3</th>\n",
       "      <td>Standard Class</td>\n",
       "      <td>Consumer</td>\n",
       "      <td>United States</td>\n",
       "      <td>Fort Lauderdale</td>\n",
       "      <td>Florida</td>\n",
       "      <td>33311</td>\n",
       "      <td>South</td>\n",
       "      <td>Furniture</td>\n",
       "      <td>Tables</td>\n",
       "      <td>957.5775</td>\n",
       "      <td>5</td>\n",
       "      <td>0.45</td>\n",
       "      <td>-383.0310</td>\n",
       "    </tr>\n",
       "    <tr>\n",
       "      <th>4</th>\n",
       "      <td>Standard Class</td>\n",
       "      <td>Consumer</td>\n",
       "      <td>United States</td>\n",
       "      <td>Fort Lauderdale</td>\n",
       "      <td>Florida</td>\n",
       "      <td>33311</td>\n",
       "      <td>South</td>\n",
       "      <td>Office Supplies</td>\n",
       "      <td>Storage</td>\n",
       "      <td>22.3680</td>\n",
       "      <td>2</td>\n",
       "      <td>0.20</td>\n",
       "      <td>2.5164</td>\n",
       "    </tr>\n",
       "  </tbody>\n",
       "</table>\n",
       "</div>"
      ],
      "text/plain": [
       "        Ship Mode    Segment        Country             City       State  \\\n",
       "0    Second Class   Consumer  United States        Henderson    Kentucky   \n",
       "1    Second Class   Consumer  United States        Henderson    Kentucky   \n",
       "2    Second Class  Corporate  United States      Los Angeles  California   \n",
       "3  Standard Class   Consumer  United States  Fort Lauderdale     Florida   \n",
       "4  Standard Class   Consumer  United States  Fort Lauderdale     Florida   \n",
       "\n",
       "   Postal Code Region         Category Sub-Category     Sales  Quantity  \\\n",
       "0        42420  South        Furniture    Bookcases  261.9600         2   \n",
       "1        42420  South        Furniture       Chairs  731.9400         3   \n",
       "2        90036   West  Office Supplies       Labels   14.6200         2   \n",
       "3        33311  South        Furniture       Tables  957.5775         5   \n",
       "4        33311  South  Office Supplies      Storage   22.3680         2   \n",
       "\n",
       "   Discount    Profit  \n",
       "0      0.00   41.9136  \n",
       "1      0.00  219.5820  \n",
       "2      0.00    6.8714  \n",
       "3      0.45 -383.0310  \n",
       "4      0.20    2.5164  "
      ]
     },
     "execution_count": 5,
     "metadata": {},
     "output_type": "execute_result"
    }
   ],
   "source": [
    "#Checking the data as well as the shape of the dataframe.\n",
    "\n",
    "data.head()"
   ]
  },
  {
   "cell_type": "code",
   "execution_count": 6,
   "id": "dd7df791",
   "metadata": {},
   "outputs": [
    {
     "data": {
      "text/html": [
       "<div>\n",
       "<style scoped>\n",
       "    .dataframe tbody tr th:only-of-type {\n",
       "        vertical-align: middle;\n",
       "    }\n",
       "\n",
       "    .dataframe tbody tr th {\n",
       "        vertical-align: top;\n",
       "    }\n",
       "\n",
       "    .dataframe thead th {\n",
       "        text-align: right;\n",
       "    }\n",
       "</style>\n",
       "<table border=\"1\" class=\"dataframe\">\n",
       "  <thead>\n",
       "    <tr style=\"text-align: right;\">\n",
       "      <th></th>\n",
       "      <th>Ship Mode</th>\n",
       "      <th>Segment</th>\n",
       "      <th>Country</th>\n",
       "      <th>City</th>\n",
       "      <th>State</th>\n",
       "      <th>Postal Code</th>\n",
       "      <th>Region</th>\n",
       "      <th>Category</th>\n",
       "      <th>Sub-Category</th>\n",
       "      <th>Sales</th>\n",
       "      <th>Quantity</th>\n",
       "      <th>Discount</th>\n",
       "      <th>Profit</th>\n",
       "    </tr>\n",
       "  </thead>\n",
       "  <tbody>\n",
       "    <tr>\n",
       "      <th>9989</th>\n",
       "      <td>Second Class</td>\n",
       "      <td>Consumer</td>\n",
       "      <td>United States</td>\n",
       "      <td>Miami</td>\n",
       "      <td>Florida</td>\n",
       "      <td>33180</td>\n",
       "      <td>South</td>\n",
       "      <td>Furniture</td>\n",
       "      <td>Furnishings</td>\n",
       "      <td>25.248</td>\n",
       "      <td>3</td>\n",
       "      <td>0.2</td>\n",
       "      <td>4.1028</td>\n",
       "    </tr>\n",
       "    <tr>\n",
       "      <th>9990</th>\n",
       "      <td>Standard Class</td>\n",
       "      <td>Consumer</td>\n",
       "      <td>United States</td>\n",
       "      <td>Costa Mesa</td>\n",
       "      <td>California</td>\n",
       "      <td>92627</td>\n",
       "      <td>West</td>\n",
       "      <td>Furniture</td>\n",
       "      <td>Furnishings</td>\n",
       "      <td>91.960</td>\n",
       "      <td>2</td>\n",
       "      <td>0.0</td>\n",
       "      <td>15.6332</td>\n",
       "    </tr>\n",
       "    <tr>\n",
       "      <th>9991</th>\n",
       "      <td>Standard Class</td>\n",
       "      <td>Consumer</td>\n",
       "      <td>United States</td>\n",
       "      <td>Costa Mesa</td>\n",
       "      <td>California</td>\n",
       "      <td>92627</td>\n",
       "      <td>West</td>\n",
       "      <td>Technology</td>\n",
       "      <td>Phones</td>\n",
       "      <td>258.576</td>\n",
       "      <td>2</td>\n",
       "      <td>0.2</td>\n",
       "      <td>19.3932</td>\n",
       "    </tr>\n",
       "    <tr>\n",
       "      <th>9992</th>\n",
       "      <td>Standard Class</td>\n",
       "      <td>Consumer</td>\n",
       "      <td>United States</td>\n",
       "      <td>Costa Mesa</td>\n",
       "      <td>California</td>\n",
       "      <td>92627</td>\n",
       "      <td>West</td>\n",
       "      <td>Office Supplies</td>\n",
       "      <td>Paper</td>\n",
       "      <td>29.600</td>\n",
       "      <td>4</td>\n",
       "      <td>0.0</td>\n",
       "      <td>13.3200</td>\n",
       "    </tr>\n",
       "    <tr>\n",
       "      <th>9993</th>\n",
       "      <td>Second Class</td>\n",
       "      <td>Consumer</td>\n",
       "      <td>United States</td>\n",
       "      <td>Westminster</td>\n",
       "      <td>California</td>\n",
       "      <td>92683</td>\n",
       "      <td>West</td>\n",
       "      <td>Office Supplies</td>\n",
       "      <td>Appliances</td>\n",
       "      <td>243.160</td>\n",
       "      <td>2</td>\n",
       "      <td>0.0</td>\n",
       "      <td>72.9480</td>\n",
       "    </tr>\n",
       "  </tbody>\n",
       "</table>\n",
       "</div>"
      ],
      "text/plain": [
       "           Ship Mode   Segment        Country         City       State  \\\n",
       "9989    Second Class  Consumer  United States        Miami     Florida   \n",
       "9990  Standard Class  Consumer  United States   Costa Mesa  California   \n",
       "9991  Standard Class  Consumer  United States   Costa Mesa  California   \n",
       "9992  Standard Class  Consumer  United States   Costa Mesa  California   \n",
       "9993    Second Class  Consumer  United States  Westminster  California   \n",
       "\n",
       "      Postal Code Region         Category Sub-Category    Sales  Quantity  \\\n",
       "9989        33180  South        Furniture  Furnishings   25.248         3   \n",
       "9990        92627   West        Furniture  Furnishings   91.960         2   \n",
       "9991        92627   West       Technology       Phones  258.576         2   \n",
       "9992        92627   West  Office Supplies        Paper   29.600         4   \n",
       "9993        92683   West  Office Supplies   Appliances  243.160         2   \n",
       "\n",
       "      Discount   Profit  \n",
       "9989       0.2   4.1028  \n",
       "9990       0.0  15.6332  \n",
       "9991       0.2  19.3932  \n",
       "9992       0.0  13.3200  \n",
       "9993       0.0  72.9480  "
      ]
     },
     "execution_count": 6,
     "metadata": {},
     "output_type": "execute_result"
    }
   ],
   "source": [
    "data.tail()"
   ]
  },
  {
   "cell_type": "code",
   "execution_count": 7,
   "id": "253c08b4",
   "metadata": {},
   "outputs": [
    {
     "data": {
      "text/plain": [
       "(9994, 13)"
      ]
     },
     "execution_count": 7,
     "metadata": {},
     "output_type": "execute_result"
    }
   ],
   "source": [
    "data.shape"
   ]
  },
  {
   "cell_type": "code",
   "execution_count": 8,
   "id": "b6dfd443",
   "metadata": {},
   "outputs": [
    {
     "name": "stdout",
     "output_type": "stream",
     "text": [
      "<class 'pandas.core.frame.DataFrame'>\n",
      "RangeIndex: 9994 entries, 0 to 9993\n",
      "Data columns (total 13 columns):\n",
      " #   Column        Non-Null Count  Dtype  \n",
      "---  ------        --------------  -----  \n",
      " 0   Ship Mode     9994 non-null   object \n",
      " 1   Segment       9994 non-null   object \n",
      " 2   Country       9994 non-null   object \n",
      " 3   City          9994 non-null   object \n",
      " 4   State         9994 non-null   object \n",
      " 5   Postal Code   9994 non-null   int64  \n",
      " 6   Region        9994 non-null   object \n",
      " 7   Category      9994 non-null   object \n",
      " 8   Sub-Category  9994 non-null   object \n",
      " 9   Sales         9994 non-null   float64\n",
      " 10  Quantity      9994 non-null   int64  \n",
      " 11  Discount      9994 non-null   float64\n",
      " 12  Profit        9994 non-null   float64\n",
      "dtypes: float64(3), int64(2), object(8)\n",
      "memory usage: 1015.1+ KB\n"
     ]
    }
   ],
   "source": [
    "#Checking for null values as well as the data types of each attribute.\n",
    "\n",
    "data.info()"
   ]
  },
  {
   "cell_type": "markdown",
   "id": "777cdf5c",
   "metadata": {},
   "source": [
    "<b> Conclusion: </b>"
   ]
  },
  {
   "cell_type": "markdown",
   "id": "9182037b",
   "metadata": {},
   "source": [
    "<li><b> This is evident that there is no null value in any column, so we do not need to handle them exclusively. </b></li>"
   ]
  },
  {
   "cell_type": "markdown",
   "id": "a62d665b",
   "metadata": {},
   "source": [
    "<li><b> Here we notice that Postal Codes have been treated as integers, which may impose as a problem \n",
    "when we will try to apply describe method on the dataset. </b></li>\n"
   ]
  },
  {
   "cell_type": "code",
   "execution_count": 9,
   "id": "17a53aa8",
   "metadata": {},
   "outputs": [
    {
     "name": "stdout",
     "output_type": "stream",
     "text": [
      "Done converting!\n",
      "\n",
      "Ship Mode        object\n",
      "Segment          object\n",
      "Country          object\n",
      "City             object\n",
      "State            object\n",
      "Postal Code      object\n",
      "Region           object\n",
      "Category         object\n",
      "Sub-Category     object\n",
      "Sales           float64\n",
      "Quantity          int64\n",
      "Discount        float64\n",
      "Profit          float64\n",
      "dtype: object\n"
     ]
    }
   ],
   "source": [
    "#Converting Postal Code data type from integer to object.\n",
    "data['Postal Code'] = data['Postal Code'].astype('str')\n",
    "print('Done converting!\\n')\n",
    "print(data.dtypes)"
   ]
  },
  {
   "cell_type": "code",
   "execution_count": 10,
   "id": "e5e592b9",
   "metadata": {},
   "outputs": [
    {
     "data": {
      "text/plain": [
       "17"
      ]
     },
     "execution_count": 10,
     "metadata": {},
     "output_type": "execute_result"
    }
   ],
   "source": [
    "#Checking for duplicate rows.\n",
    "\n",
    "data.duplicated().sum()"
   ]
  },
  {
   "cell_type": "markdown",
   "id": "d94528c7",
   "metadata": {},
   "source": [
    "<b> Conclusion: \\\n",
    "The dataset has 17 duplicated rows. So we need to drop them to avoid redundancy. \n",
    "</b>\n"
   ]
  },
  {
   "cell_type": "code",
   "execution_count": 11,
   "id": "557b0602",
   "metadata": {},
   "outputs": [
    {
     "name": "stdout",
     "output_type": "stream",
     "text": [
      "Duplicate rows are dropped!\n"
     ]
    }
   ],
   "source": [
    "#Dropping the duplicate rows.\n",
    "\n",
    "data.drop_duplicates(inplace=True)\n",
    "print('Duplicate rows are dropped!')"
   ]
  },
  {
   "cell_type": "code",
   "execution_count": 12,
   "id": "2c71efa3",
   "metadata": {},
   "outputs": [
    {
     "data": {
      "text/plain": [
       "(9977, 13)"
      ]
     },
     "execution_count": 12,
     "metadata": {},
     "output_type": "execute_result"
    }
   ],
   "source": [
    "data.shape"
   ]
  },
  {
   "cell_type": "code",
   "execution_count": 13,
   "id": "8962c292",
   "metadata": {},
   "outputs": [
    {
     "data": {
      "text/html": [
       "<div>\n",
       "<style scoped>\n",
       "    .dataframe tbody tr th:only-of-type {\n",
       "        vertical-align: middle;\n",
       "    }\n",
       "\n",
       "    .dataframe tbody tr th {\n",
       "        vertical-align: top;\n",
       "    }\n",
       "\n",
       "    .dataframe thead th {\n",
       "        text-align: right;\n",
       "    }\n",
       "</style>\n",
       "<table border=\"1\" class=\"dataframe\">\n",
       "  <thead>\n",
       "    <tr style=\"text-align: right;\">\n",
       "      <th></th>\n",
       "      <th>Ship Mode</th>\n",
       "      <th>Segment</th>\n",
       "      <th>Country</th>\n",
       "      <th>City</th>\n",
       "      <th>State</th>\n",
       "      <th>Postal Code</th>\n",
       "      <th>Region</th>\n",
       "      <th>Category</th>\n",
       "      <th>Sub-Category</th>\n",
       "      <th>Sales</th>\n",
       "      <th>Quantity</th>\n",
       "      <th>Discount</th>\n",
       "      <th>Profit</th>\n",
       "    </tr>\n",
       "  </thead>\n",
       "  <tbody>\n",
       "    <tr>\n",
       "      <th>count</th>\n",
       "      <td>9977</td>\n",
       "      <td>9977</td>\n",
       "      <td>9977</td>\n",
       "      <td>9977</td>\n",
       "      <td>9977</td>\n",
       "      <td>9977</td>\n",
       "      <td>9977</td>\n",
       "      <td>9977</td>\n",
       "      <td>9977</td>\n",
       "      <td>9977.000000</td>\n",
       "      <td>9977.000000</td>\n",
       "      <td>9977.000000</td>\n",
       "      <td>9977.00000</td>\n",
       "    </tr>\n",
       "    <tr>\n",
       "      <th>unique</th>\n",
       "      <td>4</td>\n",
       "      <td>3</td>\n",
       "      <td>1</td>\n",
       "      <td>531</td>\n",
       "      <td>49</td>\n",
       "      <td>631</td>\n",
       "      <td>4</td>\n",
       "      <td>3</td>\n",
       "      <td>17</td>\n",
       "      <td>NaN</td>\n",
       "      <td>NaN</td>\n",
       "      <td>NaN</td>\n",
       "      <td>NaN</td>\n",
       "    </tr>\n",
       "    <tr>\n",
       "      <th>top</th>\n",
       "      <td>Standard Class</td>\n",
       "      <td>Consumer</td>\n",
       "      <td>United States</td>\n",
       "      <td>New York City</td>\n",
       "      <td>California</td>\n",
       "      <td>10035</td>\n",
       "      <td>West</td>\n",
       "      <td>Office Supplies</td>\n",
       "      <td>Binders</td>\n",
       "      <td>NaN</td>\n",
       "      <td>NaN</td>\n",
       "      <td>NaN</td>\n",
       "      <td>NaN</td>\n",
       "    </tr>\n",
       "    <tr>\n",
       "      <th>freq</th>\n",
       "      <td>5955</td>\n",
       "      <td>5183</td>\n",
       "      <td>9977</td>\n",
       "      <td>914</td>\n",
       "      <td>1996</td>\n",
       "      <td>263</td>\n",
       "      <td>3193</td>\n",
       "      <td>6012</td>\n",
       "      <td>1522</td>\n",
       "      <td>NaN</td>\n",
       "      <td>NaN</td>\n",
       "      <td>NaN</td>\n",
       "      <td>NaN</td>\n",
       "    </tr>\n",
       "    <tr>\n",
       "      <th>mean</th>\n",
       "      <td>NaN</td>\n",
       "      <td>NaN</td>\n",
       "      <td>NaN</td>\n",
       "      <td>NaN</td>\n",
       "      <td>NaN</td>\n",
       "      <td>NaN</td>\n",
       "      <td>NaN</td>\n",
       "      <td>NaN</td>\n",
       "      <td>NaN</td>\n",
       "      <td>230.148902</td>\n",
       "      <td>3.790719</td>\n",
       "      <td>0.156278</td>\n",
       "      <td>28.69013</td>\n",
       "    </tr>\n",
       "    <tr>\n",
       "      <th>std</th>\n",
       "      <td>NaN</td>\n",
       "      <td>NaN</td>\n",
       "      <td>NaN</td>\n",
       "      <td>NaN</td>\n",
       "      <td>NaN</td>\n",
       "      <td>NaN</td>\n",
       "      <td>NaN</td>\n",
       "      <td>NaN</td>\n",
       "      <td>NaN</td>\n",
       "      <td>623.721409</td>\n",
       "      <td>2.226657</td>\n",
       "      <td>0.206455</td>\n",
       "      <td>234.45784</td>\n",
       "    </tr>\n",
       "    <tr>\n",
       "      <th>min</th>\n",
       "      <td>NaN</td>\n",
       "      <td>NaN</td>\n",
       "      <td>NaN</td>\n",
       "      <td>NaN</td>\n",
       "      <td>NaN</td>\n",
       "      <td>NaN</td>\n",
       "      <td>NaN</td>\n",
       "      <td>NaN</td>\n",
       "      <td>NaN</td>\n",
       "      <td>0.444000</td>\n",
       "      <td>1.000000</td>\n",
       "      <td>0.000000</td>\n",
       "      <td>-6599.97800</td>\n",
       "    </tr>\n",
       "    <tr>\n",
       "      <th>25%</th>\n",
       "      <td>NaN</td>\n",
       "      <td>NaN</td>\n",
       "      <td>NaN</td>\n",
       "      <td>NaN</td>\n",
       "      <td>NaN</td>\n",
       "      <td>NaN</td>\n",
       "      <td>NaN</td>\n",
       "      <td>NaN</td>\n",
       "      <td>NaN</td>\n",
       "      <td>17.300000</td>\n",
       "      <td>2.000000</td>\n",
       "      <td>0.000000</td>\n",
       "      <td>1.72620</td>\n",
       "    </tr>\n",
       "    <tr>\n",
       "      <th>50%</th>\n",
       "      <td>NaN</td>\n",
       "      <td>NaN</td>\n",
       "      <td>NaN</td>\n",
       "      <td>NaN</td>\n",
       "      <td>NaN</td>\n",
       "      <td>NaN</td>\n",
       "      <td>NaN</td>\n",
       "      <td>NaN</td>\n",
       "      <td>NaN</td>\n",
       "      <td>54.816000</td>\n",
       "      <td>3.000000</td>\n",
       "      <td>0.200000</td>\n",
       "      <td>8.67100</td>\n",
       "    </tr>\n",
       "    <tr>\n",
       "      <th>75%</th>\n",
       "      <td>NaN</td>\n",
       "      <td>NaN</td>\n",
       "      <td>NaN</td>\n",
       "      <td>NaN</td>\n",
       "      <td>NaN</td>\n",
       "      <td>NaN</td>\n",
       "      <td>NaN</td>\n",
       "      <td>NaN</td>\n",
       "      <td>NaN</td>\n",
       "      <td>209.970000</td>\n",
       "      <td>5.000000</td>\n",
       "      <td>0.200000</td>\n",
       "      <td>29.37200</td>\n",
       "    </tr>\n",
       "    <tr>\n",
       "      <th>max</th>\n",
       "      <td>NaN</td>\n",
       "      <td>NaN</td>\n",
       "      <td>NaN</td>\n",
       "      <td>NaN</td>\n",
       "      <td>NaN</td>\n",
       "      <td>NaN</td>\n",
       "      <td>NaN</td>\n",
       "      <td>NaN</td>\n",
       "      <td>NaN</td>\n",
       "      <td>22638.480000</td>\n",
       "      <td>14.000000</td>\n",
       "      <td>0.800000</td>\n",
       "      <td>8399.97600</td>\n",
       "    </tr>\n",
       "  </tbody>\n",
       "</table>\n",
       "</div>"
      ],
      "text/plain": [
       "             Ship Mode   Segment        Country           City       State  \\\n",
       "count             9977      9977           9977           9977        9977   \n",
       "unique               4         3              1            531          49   \n",
       "top     Standard Class  Consumer  United States  New York City  California   \n",
       "freq              5955      5183           9977            914        1996   \n",
       "mean               NaN       NaN            NaN            NaN         NaN   \n",
       "std                NaN       NaN            NaN            NaN         NaN   \n",
       "min                NaN       NaN            NaN            NaN         NaN   \n",
       "25%                NaN       NaN            NaN            NaN         NaN   \n",
       "50%                NaN       NaN            NaN            NaN         NaN   \n",
       "75%                NaN       NaN            NaN            NaN         NaN   \n",
       "max                NaN       NaN            NaN            NaN         NaN   \n",
       "\n",
       "       Postal Code Region         Category Sub-Category         Sales  \\\n",
       "count         9977   9977             9977         9977   9977.000000   \n",
       "unique         631      4                3           17           NaN   \n",
       "top          10035   West  Office Supplies      Binders           NaN   \n",
       "freq           263   3193             6012         1522           NaN   \n",
       "mean           NaN    NaN              NaN          NaN    230.148902   \n",
       "std            NaN    NaN              NaN          NaN    623.721409   \n",
       "min            NaN    NaN              NaN          NaN      0.444000   \n",
       "25%            NaN    NaN              NaN          NaN     17.300000   \n",
       "50%            NaN    NaN              NaN          NaN     54.816000   \n",
       "75%            NaN    NaN              NaN          NaN    209.970000   \n",
       "max            NaN    NaN              NaN          NaN  22638.480000   \n",
       "\n",
       "           Quantity     Discount      Profit  \n",
       "count   9977.000000  9977.000000  9977.00000  \n",
       "unique          NaN          NaN         NaN  \n",
       "top             NaN          NaN         NaN  \n",
       "freq            NaN          NaN         NaN  \n",
       "mean       3.790719     0.156278    28.69013  \n",
       "std        2.226657     0.206455   234.45784  \n",
       "min        1.000000     0.000000 -6599.97800  \n",
       "25%        2.000000     0.000000     1.72620  \n",
       "50%        3.000000     0.200000     8.67100  \n",
       "75%        5.000000     0.200000    29.37200  \n",
       "max       14.000000     0.800000  8399.97600  "
      ]
     },
     "execution_count": 13,
     "metadata": {},
     "output_type": "execute_result"
    }
   ],
   "source": [
    "#Now we would like to dig deeper into the dataset.\n",
    "\n",
    "data.describe(include='all')"
   ]
  },
  {
   "cell_type": "markdown",
   "id": "6822fae4",
   "metadata": {},
   "source": [
    "<font color='green'><li><b> Univariate Analysis </b></li></font>"
   ]
  },
  {
   "cell_type": "code",
   "execution_count": 14,
   "id": "41f89f76",
   "metadata": {},
   "outputs": [
    {
     "data": {
      "text/plain": [
       "Standard Class    5955\n",
       "Second Class      1943\n",
       "First Class       1537\n",
       "Same Day           542\n",
       "Name: Ship Mode, dtype: int64"
      ]
     },
     "execution_count": 14,
     "metadata": {},
     "output_type": "execute_result"
    }
   ],
   "source": [
    "#Analyzing the Shipping Modes avilable in the Supermart.\n",
    "\n",
    "spmd_val=data['Ship Mode'].value_counts()\n",
    "spmd_val"
   ]
  },
  {
   "cell_type": "code",
   "execution_count": 15,
   "id": "5ccb7876",
   "metadata": {},
   "outputs": [
    {
     "data": {
      "image/png": "[encoded data removed]",
      "text/plain": [
       "<Figure size 360x432 with 1 Axes>"
      ]
     },
     "metadata": {},
     "output_type": "display_data"
    }
   ],
   "source": [
    "spmd_val.plot(kind='pie', subplots=True, title='Percentage of people Prefering Each Shipping Mode', \n",
    "              autopct='%1.2f%%',figsize=(5,6))\n",
    "\n",
    "plt.show()"
   ]
  },
  {
   "cell_type": "markdown",
   "id": "d58746e1",
   "metadata": {},
   "source": [
    "<b>Conclusion:\n",
    "\n",
    "<li> Standard Shipping mode is the most preferred shipping mode.</li>\n",
    "<li> Same day shipping is the least preferred option for shipping. </li>\n",
    "<li> Almost 15% percent of customers prefer First class shipping mode and almost 19% of customers prefer Second class shipping mode.</li></b>"
   ]
  },
  {
   "cell_type": "code",
   "execution_count": 16,
   "id": "4509286e",
   "metadata": {},
   "outputs": [
    {
     "name": "stdout",
     "output_type": "stream",
     "text": [
      "Consumer       5183\n",
      "Corporate      3015\n",
      "Home Office    1779\n",
      "Name: Segment, dtype: int64\n"
     ]
    }
   ],
   "source": [
    "#Analyzing Customer Segments\n",
    "\n",
    "sgmt_val=data['Segment'].value_counts()\n",
    "print(sgmt_val)"
   ]
  },
  {
   "cell_type": "code",
   "execution_count": 17,
   "id": "7fc91abf",
   "metadata": {},
   "outputs": [
    {
     "data": {
      "image/png": "[encoded data removed]",
      "text/plain": [
       "<Figure size 360x432 with 1 Axes>"
      ]
     },
     "metadata": {},
     "output_type": "display_data"
    }
   ],
   "source": [
    "sgmt_val.plot(kind='pie', subplots=True, title='Customer Segmentation', autopct='%1.2f%%',figsize=(5,6))\n",
    "plt.show()"
   ]
  },
  {
   "cell_type": "markdown",
   "id": "1c52946e",
   "metadata": {},
   "source": [
    "<b>Conclusion:\n",
    "\n",
    "<li> Nearly 50% of Customers belong to the Consumer Class.</li>\n",
    "<li> Nearly 30% of Customers belong to the Corporate class. </li>\n",
    "<li> Nearly 20% of Customers belong to the Home Office segment. </li></b>\n",
    "    "
   ]
  },
  {
   "cell_type": "code",
   "execution_count": 18,
   "id": "cea1f775",
   "metadata": {},
   "outputs": [
    {
     "name": "stdout",
     "output_type": "stream",
     "text": [
      "Number of items sold for each category:\n",
      "Office Supplies    6012\n",
      "Furniture          2118\n",
      "Technology         1847\n",
      "Name: Category, dtype: int64\n"
     ]
    }
   ],
   "source": [
    "#Category wise analysis. \n",
    "\n",
    "cat_val=data['Category'].value_counts()\n",
    "print('Number of items sold for each category:')\n",
    "print(cat_val)"
   ]
  },
  {
   "cell_type": "code",
   "execution_count": 19,
   "id": "d4104bf2",
   "metadata": {},
   "outputs": [
    {
     "data": {
      "image/png": "[encoded data removed]",
      "text/plain": [
       "<Figure size 360x432 with 1 Axes>"
      ]
     },
     "metadata": {},
     "output_type": "display_data"
    }
   ],
   "source": [
    "cat_val.plot(kind='pie', subplots=True, title='Category wise Product Sale', autopct='%.2f%%', figsize=(5,6), shadow=True)\n",
    "plt.show()"
   ]
  },
  {
   "cell_type": "markdown",
   "id": "22655bac",
   "metadata": {},
   "source": [
    "<b>Conclusion:\n",
    "<li> Most sold items are from the Office Supplies category, followed by Furniture and Technology. </li>\n",
    "<li> The supermarket should improve its marketing strategies for Furniture and Technology related products. </li></b>\n",
    "   "
   ]
  },
  {
   "cell_type": "code",
   "execution_count": 20,
   "id": "c3153d0a",
   "metadata": {},
   "outputs": [
    {
     "name": "stdout",
     "output_type": "stream",
     "text": [
      "Binders        1522\n",
      "Paper          1359\n",
      "Furnishings     956\n",
      "Phones          889\n",
      "Storage         846\n",
      "Art             795\n",
      "Accessories     775\n",
      "Chairs          615\n",
      "Appliances      466\n",
      "Labels          363\n",
      "Tables          319\n",
      "Envelopes       254\n",
      "Bookcases       228\n",
      "Fasteners       217\n",
      "Supplies        190\n",
      "Machines        115\n",
      "Copiers          68\n",
      "Name: Sub-Category, dtype: int64\n"
     ]
    }
   ],
   "source": [
    "#Analyzing Subcategories\n",
    "\n",
    "subcat_val=data['Sub-Category'].value_counts()\n",
    "print(subcat_val)"
   ]
  },
  {
   "cell_type": "code",
   "execution_count": 21,
   "id": "02920d58",
   "metadata": {},
   "outputs": [
    {
     "data": {
      "image/png": "[encoded data removed]",
      "text/plain": [
       "<Figure size 648x720 with 1 Axes>"
      ]
     },
     "metadata": {},
     "output_type": "display_data"
    }
   ],
   "source": [
    "subcat_val.plot(kind='pie', subplots=True, figsize=(9,10), autopct='%.2f%%', shadow=True)\n",
    "plt.title('Subcategory wise sales report')\n",
    "plt.show()"
   ]
  },
  {
   "cell_type": "markdown",
   "id": "e27b44d4",
   "metadata": {},
   "source": [
    "<b>Conclusion:\\\n",
    "    <li>Most sold items are Binders followed by Paper, Furnishings, Phones, Storage e.t.c.</li>\n",
    "    <li>Least sold items are Copiers, followed by Machines, Supplies, Fasteners, Bookcases e.t.c.</li></b>"
   ]
  },
  {
   "cell_type": "markdown",
   "id": "fa1ad91b",
   "metadata": {},
   "source": [
    "\n",
    "<font color='green'><li><b> Bivariate Analysis </b></li></font>\n"
   ]
  },
  {
   "cell_type": "markdown",
   "id": "2f08268d",
   "metadata": {},
   "source": [
    "<b>Checking the correlation among data attributes.</b>"
   ]
  },
  {
   "cell_type": "code",
   "execution_count": 22,
   "id": "b0a7f48d",
   "metadata": {},
   "outputs": [
    {
     "name": "stdout",
     "output_type": "stream",
     "text": [
      "Correlation due to Pearson:\n"
     ]
    },
    {
     "data": {
      "text/html": [
       "<div>\n",
       "<style scoped>\n",
       "    .dataframe tbody tr th:only-of-type {\n",
       "        vertical-align: middle;\n",
       "    }\n",
       "\n",
       "    .dataframe tbody tr th {\n",
       "        vertical-align: top;\n",
       "    }\n",
       "\n",
       "    .dataframe thead th {\n",
       "        text-align: right;\n",
       "    }\n",
       "</style>\n",
       "<table border=\"1\" class=\"dataframe\">\n",
       "  <thead>\n",
       "    <tr style=\"text-align: right;\">\n",
       "      <th></th>\n",
       "      <th>Sales</th>\n",
       "      <th>Quantity</th>\n",
       "      <th>Discount</th>\n",
       "      <th>Profit</th>\n",
       "    </tr>\n",
       "  </thead>\n",
       "  <tbody>\n",
       "    <tr>\n",
       "      <th>Sales</th>\n",
       "      <td>1.000000</td>\n",
       "      <td>0.200722</td>\n",
       "      <td>-0.028311</td>\n",
       "      <td>0.479067</td>\n",
       "    </tr>\n",
       "    <tr>\n",
       "      <th>Quantity</th>\n",
       "      <td>0.200722</td>\n",
       "      <td>1.000000</td>\n",
       "      <td>0.008678</td>\n",
       "      <td>0.066211</td>\n",
       "    </tr>\n",
       "    <tr>\n",
       "      <th>Discount</th>\n",
       "      <td>-0.028311</td>\n",
       "      <td>0.008678</td>\n",
       "      <td>1.000000</td>\n",
       "      <td>-0.219662</td>\n",
       "    </tr>\n",
       "    <tr>\n",
       "      <th>Profit</th>\n",
       "      <td>0.479067</td>\n",
       "      <td>0.066211</td>\n",
       "      <td>-0.219662</td>\n",
       "      <td>1.000000</td>\n",
       "    </tr>\n",
       "  </tbody>\n",
       "</table>\n",
       "</div>"
      ],
      "text/plain": [
       "             Sales  Quantity  Discount    Profit\n",
       "Sales     1.000000  0.200722 -0.028311  0.479067\n",
       "Quantity  0.200722  1.000000  0.008678  0.066211\n",
       "Discount -0.028311  0.008678  1.000000 -0.219662\n",
       "Profit    0.479067  0.066211 -0.219662  1.000000"
      ]
     },
     "execution_count": 22,
     "metadata": {},
     "output_type": "execute_result"
    }
   ],
   "source": [
    "data_corr1=data.corr(method='pearson')\n",
    "print('Correlation due to Pearson:')\n",
    "data_corr1"
   ]
  },
  {
   "cell_type": "code",
   "execution_count": 23,
   "id": "b9a0170a",
   "metadata": {},
   "outputs": [
    {
     "data": {
      "image/png": "[encoded data removed]",
      "text/plain": [
       "<Figure size 432x288 with 2 Axes>"
      ]
     },
     "metadata": {
      "needs_background": "light"
     },
     "output_type": "display_data"
    }
   ],
   "source": [
    "sns.heatmap(data_corr1, annot=True, cmap='RdYlGn')\n",
    "plt.title('Correlations due to Pearson')\n",
    "plt.show()"
   ]
  },
  {
   "cell_type": "code",
   "execution_count": 24,
   "id": "e098b248",
   "metadata": {},
   "outputs": [
    {
     "name": "stdout",
     "output_type": "stream",
     "text": [
      "Correlation due to Spearman:\n"
     ]
    },
    {
     "data": {
      "text/html": [
       "<div>\n",
       "<style scoped>\n",
       "    .dataframe tbody tr th:only-of-type {\n",
       "        vertical-align: middle;\n",
       "    }\n",
       "\n",
       "    .dataframe tbody tr th {\n",
       "        vertical-align: top;\n",
       "    }\n",
       "\n",
       "    .dataframe thead th {\n",
       "        text-align: right;\n",
       "    }\n",
       "</style>\n",
       "<table border=\"1\" class=\"dataframe\">\n",
       "  <thead>\n",
       "    <tr style=\"text-align: right;\">\n",
       "      <th></th>\n",
       "      <th>Sales</th>\n",
       "      <th>Quantity</th>\n",
       "      <th>Discount</th>\n",
       "      <th>Profit</th>\n",
       "    </tr>\n",
       "  </thead>\n",
       "  <tbody>\n",
       "    <tr>\n",
       "      <th>Sales</th>\n",
       "      <td>1.000000</td>\n",
       "      <td>0.327579</td>\n",
       "      <td>-0.057193</td>\n",
       "      <td>0.518410</td>\n",
       "    </tr>\n",
       "    <tr>\n",
       "      <th>Quantity</th>\n",
       "      <td>0.327579</td>\n",
       "      <td>1.000000</td>\n",
       "      <td>-0.000552</td>\n",
       "      <td>0.234292</td>\n",
       "    </tr>\n",
       "    <tr>\n",
       "      <th>Discount</th>\n",
       "      <td>-0.057193</td>\n",
       "      <td>-0.000552</td>\n",
       "      <td>1.000000</td>\n",
       "      <td>-0.543475</td>\n",
       "    </tr>\n",
       "    <tr>\n",
       "      <th>Profit</th>\n",
       "      <td>0.518410</td>\n",
       "      <td>0.234292</td>\n",
       "      <td>-0.543475</td>\n",
       "      <td>1.000000</td>\n",
       "    </tr>\n",
       "  </tbody>\n",
       "</table>\n",
       "</div>"
      ],
      "text/plain": [
       "             Sales  Quantity  Discount    Profit\n",
       "Sales     1.000000  0.327579 -0.057193  0.518410\n",
       "Quantity  0.327579  1.000000 -0.000552  0.234292\n",
       "Discount -0.057193 -0.000552  1.000000 -0.543475\n",
       "Profit    0.518410  0.234292 -0.543475  1.000000"
      ]
     },
     "execution_count": 24,
     "metadata": {},
     "output_type": "execute_result"
    }
   ],
   "source": [
    "data_corr2=data.corr(method='spearman')\n",
    "print('Correlation due to Spearman:')\n",
    "data_corr2"
   ]
  },
  {
   "cell_type": "code",
   "execution_count": 25,
   "id": "c519198f",
   "metadata": {},
   "outputs": [
    {
     "data": {
      "image/png": "[encoded data removed]",
      "text/plain": [
       "<Figure size 432x288 with 2 Axes>"
      ]
     },
     "metadata": {
      "needs_background": "light"
     },
     "output_type": "display_data"
    }
   ],
   "source": [
    "sns.heatmap(data_corr2, annot=True, cmap='RdYlGn')\n",
    "plt.title('Correlation due to Spearman')\n",
    "plt.show()"
   ]
  },
  {
   "cell_type": "markdown",
   "id": "b3765ec4",
   "metadata": {},
   "source": [
    "<b>Conclusion: \\\n",
    "    There is a negative correlation between Profit and Discount.</b>"
   ]
  },
  {
   "cell_type": "code",
   "execution_count": 26,
   "id": "016b7a9e",
   "metadata": {},
   "outputs": [
    {
     "data": {
      "text/html": [
       "<div>\n",
       "<style scoped>\n",
       "    .dataframe tbody tr th:only-of-type {\n",
       "        vertical-align: middle;\n",
       "    }\n",
       "\n",
       "    .dataframe tbody tr th {\n",
       "        vertical-align: top;\n",
       "    }\n",
       "\n",
       "    .dataframe thead th {\n",
       "        text-align: right;\n",
       "    }\n",
       "</style>\n",
       "<table border=\"1\" class=\"dataframe\">\n",
       "  <thead>\n",
       "    <tr style=\"text-align: right;\">\n",
       "      <th>Discount</th>\n",
       "      <th>0.00</th>\n",
       "      <th>0.10</th>\n",
       "      <th>0.15</th>\n",
       "      <th>0.20</th>\n",
       "      <th>0.30</th>\n",
       "      <th>0.32</th>\n",
       "      <th>0.40</th>\n",
       "      <th>0.45</th>\n",
       "      <th>0.50</th>\n",
       "      <th>0.60</th>\n",
       "      <th>0.70</th>\n",
       "      <th>0.80</th>\n",
       "    </tr>\n",
       "    <tr>\n",
       "      <th>Segment</th>\n",
       "      <th></th>\n",
       "      <th></th>\n",
       "      <th></th>\n",
       "      <th></th>\n",
       "      <th></th>\n",
       "      <th></th>\n",
       "      <th></th>\n",
       "      <th></th>\n",
       "      <th></th>\n",
       "      <th></th>\n",
       "      <th></th>\n",
       "      <th></th>\n",
       "    </tr>\n",
       "  </thead>\n",
       "  <tbody>\n",
       "    <tr>\n",
       "      <th>Consumer</th>\n",
       "      <td>64.281062</td>\n",
       "      <td>93.630090</td>\n",
       "      <td>15.744638</td>\n",
       "      <td>22.439654</td>\n",
       "      <td>-48.018291</td>\n",
       "      <td>-102.708631</td>\n",
       "      <td>-93.462041</td>\n",
       "      <td>-216.651900</td>\n",
       "      <td>-253.572181</td>\n",
       "      <td>-38.639822</td>\n",
       "      <td>-106.962433</td>\n",
       "      <td>-115.213404</td>\n",
       "    </tr>\n",
       "    <tr>\n",
       "      <th>Corporate</th>\n",
       "      <td>71.717580</td>\n",
       "      <td>99.802956</td>\n",
       "      <td>49.282143</td>\n",
       "      <td>23.173335</td>\n",
       "      <td>-46.241380</td>\n",
       "      <td>-82.702010</td>\n",
       "      <td>-132.003562</td>\n",
       "      <td>-280.968633</td>\n",
       "      <td>-388.164788</td>\n",
       "      <td>-40.623326</td>\n",
       "      <td>-68.023771</td>\n",
       "      <td>-97.869076</td>\n",
       "    </tr>\n",
       "    <tr>\n",
       "      <th>Home Office</th>\n",
       "      <td>67.079919</td>\n",
       "      <td>97.234865</td>\n",
       "      <td>30.271889</td>\n",
       "      <td>34.783007</td>\n",
       "      <td>-37.834059</td>\n",
       "      <td>-57.226350</td>\n",
       "      <td>-119.900858</td>\n",
       "      <td>-175.146900</td>\n",
       "      <td>-377.121333</td>\n",
       "      <td>-60.039948</td>\n",
       "      <td>-115.479956</td>\n",
       "      <td>-62.509202</td>\n",
       "    </tr>\n",
       "  </tbody>\n",
       "</table>\n",
       "</div>"
      ],
      "text/plain": [
       "Discount          0.00       0.10       0.15       0.20       0.30  \\\n",
       "Segment                                                              \n",
       "Consumer     64.281062  93.630090  15.744638  22.439654 -48.018291   \n",
       "Corporate    71.717580  99.802956  49.282143  23.173335 -46.241380   \n",
       "Home Office  67.079919  97.234865  30.271889  34.783007 -37.834059   \n",
       "\n",
       "Discount           0.32        0.40        0.45        0.50       0.60  \\\n",
       "Segment                                                                  \n",
       "Consumer    -102.708631  -93.462041 -216.651900 -253.572181 -38.639822   \n",
       "Corporate    -82.702010 -132.003562 -280.968633 -388.164788 -40.623326   \n",
       "Home Office  -57.226350 -119.900858 -175.146900 -377.121333 -60.039948   \n",
       "\n",
       "Discount           0.70        0.80  \n",
       "Segment                              \n",
       "Consumer    -106.962433 -115.213404  \n",
       "Corporate    -68.023771  -97.869076  \n",
       "Home Office -115.479956  -62.509202  "
      ]
     },
     "execution_count": 26,
     "metadata": {},
     "output_type": "execute_result"
    }
   ],
   "source": [
    "#Gauging Profit with respect to Discount\n",
    "\n",
    "data.pivot_table(values='Profit', index= 'Segment', columns= 'Discount', aggfunc= 'mean')"
   ]
  },
  {
   "cell_type": "code",
   "execution_count": 27,
   "id": "4b7aee91",
   "metadata": {},
   "outputs": [
    {
     "data": {
      "text/html": [
       "<div>\n",
       "<style scoped>\n",
       "    .dataframe tbody tr th:only-of-type {\n",
       "        vertical-align: middle;\n",
       "    }\n",
       "\n",
       "    .dataframe tbody tr th {\n",
       "        vertical-align: top;\n",
       "    }\n",
       "\n",
       "    .dataframe thead th {\n",
       "        text-align: right;\n",
       "    }\n",
       "</style>\n",
       "<table border=\"1\" class=\"dataframe\">\n",
       "  <thead>\n",
       "    <tr style=\"text-align: right;\">\n",
       "      <th>Discount</th>\n",
       "      <th>0.00</th>\n",
       "      <th>0.10</th>\n",
       "      <th>0.15</th>\n",
       "      <th>0.20</th>\n",
       "      <th>0.30</th>\n",
       "      <th>0.32</th>\n",
       "      <th>0.40</th>\n",
       "      <th>0.45</th>\n",
       "      <th>0.50</th>\n",
       "      <th>0.60</th>\n",
       "      <th>0.70</th>\n",
       "      <th>0.80</th>\n",
       "    </tr>\n",
       "    <tr>\n",
       "      <th>Segment</th>\n",
       "      <th></th>\n",
       "      <th></th>\n",
       "      <th></th>\n",
       "      <th></th>\n",
       "      <th></th>\n",
       "      <th></th>\n",
       "      <th></th>\n",
       "      <th></th>\n",
       "      <th></th>\n",
       "      <th></th>\n",
       "      <th></th>\n",
       "      <th></th>\n",
       "    </tr>\n",
       "  </thead>\n",
       "  <tbody>\n",
       "    <tr>\n",
       "      <th>Consumer</th>\n",
       "      <td>16.14600</td>\n",
       "      <td>62.0390</td>\n",
       "      <td>5.12940</td>\n",
       "      <td>6.0433</td>\n",
       "      <td>-26.0562</td>\n",
       "      <td>-30.0980</td>\n",
       "      <td>-47.21360</td>\n",
       "      <td>-135.68145</td>\n",
       "      <td>-175.2600</td>\n",
       "      <td>-14.1323</td>\n",
       "      <td>-8.7276</td>\n",
       "      <td>-13.7175</td>\n",
       "    </tr>\n",
       "    <tr>\n",
       "      <th>Corporate</th>\n",
       "      <td>16.35285</td>\n",
       "      <td>46.7908</td>\n",
       "      <td>26.27735</td>\n",
       "      <td>6.7068</td>\n",
       "      <td>-28.2240</td>\n",
       "      <td>-59.0606</td>\n",
       "      <td>-87.27495</td>\n",
       "      <td>-255.58750</td>\n",
       "      <td>-120.5130</td>\n",
       "      <td>-10.4196</td>\n",
       "      <td>-8.9796</td>\n",
       "      <td>-16.7130</td>\n",
       "    </tr>\n",
       "    <tr>\n",
       "      <th>Home Office</th>\n",
       "      <td>15.45460</td>\n",
       "      <td>37.2300</td>\n",
       "      <td>16.79860</td>\n",
       "      <td>7.2576</td>\n",
       "      <td>-18.2220</td>\n",
       "      <td>-57.3234</td>\n",
       "      <td>-49.71900</td>\n",
       "      <td>-175.14690</td>\n",
       "      <td>-237.8425</td>\n",
       "      <td>-14.2290</td>\n",
       "      <td>-9.7608</td>\n",
       "      <td>-14.0328</td>\n",
       "    </tr>\n",
       "  </tbody>\n",
       "</table>\n",
       "</div>"
      ],
      "text/plain": [
       "Discount         0.00     0.10      0.15    0.20     0.30     0.32      0.40  \\\n",
       "Segment                                                                        \n",
       "Consumer     16.14600  62.0390   5.12940  6.0433 -26.0562 -30.0980 -47.21360   \n",
       "Corporate    16.35285  46.7908  26.27735  6.7068 -28.2240 -59.0606 -87.27495   \n",
       "Home Office  15.45460  37.2300  16.79860  7.2576 -18.2220 -57.3234 -49.71900   \n",
       "\n",
       "Discount          0.45      0.50     0.60    0.70     0.80  \n",
       "Segment                                                     \n",
       "Consumer    -135.68145 -175.2600 -14.1323 -8.7276 -13.7175  \n",
       "Corporate   -255.58750 -120.5130 -10.4196 -8.9796 -16.7130  \n",
       "Home Office -175.14690 -237.8425 -14.2290 -9.7608 -14.0328  "
      ]
     },
     "execution_count": 27,
     "metadata": {},
     "output_type": "execute_result"
    }
   ],
   "source": [
    "data.pivot_table(values='Profit', index= 'Segment', columns= 'Discount', aggfunc= 'median')"
   ]
  },
  {
   "cell_type": "markdown",
   "id": "5686e43b",
   "metadata": {},
   "source": [
    "<b>Conclusion:\\\n",
    "    <li> From both the tables we see that Profit is maximized when items are sold in 10% discount.</li>\n",
    "    <li> Both the tabulations depict that either (>20%) discount effects in loss or storerunners sell products in (>20%) discounted price when their profits are not good enough or negative. </li></b>"
   ]
  },
  {
   "cell_type": "code",
   "execution_count": 28,
   "id": "982aca1b",
   "metadata": {},
   "outputs": [],
   "source": [
    "#Analyzing Sales data with respect to Region.\n",
    "\n",
    "df2=data[['Region', 'Sales']]"
   ]
  },
  {
   "cell_type": "code",
   "execution_count": 29,
   "id": "1e63a864",
   "metadata": {},
   "outputs": [
    {
     "data": {
      "image/png": "[encoded data removed]",
      "text/plain": [
       "<Figure size 360x432 with 1 Axes>"
      ]
     },
     "metadata": {},
     "output_type": "display_data"
    }
   ],
   "source": [
    "df2_gr=df2.groupby('Region').sum()\n",
    "df2_gr.plot(kind='pie',subplots=True, autopct='%1.2f%%',figsize=(5,6),shadow=True )\n",
    "plt.title('Sales Data by Region')\n",
    "plt.show()"
   ]
  },
  {
   "cell_type": "code",
   "execution_count": 30,
   "id": "b1898b7a",
   "metadata": {},
   "outputs": [],
   "source": [
    "#Analyzing Profit data with respect to Region.\n",
    "\n",
    "df=data[['Region','Profit']]"
   ]
  },
  {
   "cell_type": "code",
   "execution_count": 31,
   "id": "8b2282af",
   "metadata": {},
   "outputs": [
    {
     "data": {
      "image/png": "[encoded data removed]",
      "text/plain": [
       "<Figure size 360x432 with 1 Axes>"
      ]
     },
     "metadata": {},
     "output_type": "display_data"
    }
   ],
   "source": [
    "df_gr=df.groupby('Region').sum()\n",
    "df_gr.plot(kind='pie', subplots=True,title='Profit by Region Plot', figsize=(5,6),autopct='%1.2f%%', shadow=True)\n",
    "plt.show()"
   ]
  },
  {
   "cell_type": "code",
   "execution_count": 32,
   "id": "4e72bea5",
   "metadata": {},
   "outputs": [
    {
     "data": {
      "image/png": "[encoded data removed]",
      "text/plain": [
       "<Figure size 432x288 with 1 Axes>"
      ]
     },
     "metadata": {
      "needs_background": "light"
     },
     "output_type": "display_data"
    }
   ],
   "source": [
    "sns.countplot(x=data['Region'], hue=data['Category'])\n",
    "plt.title('Region and Category Wise Order Count Distribution', fontsize=15)\n",
    "plt.ylabel('Order Count')\n",
    "plt.grid(color='grey', linestyle= '--', linewidth=0.3)\n",
    "plt.show()"
   ]
  },
  {
   "cell_type": "markdown",
   "id": "66afcbb0",
   "metadata": {},
   "source": [
    "<b>Conclusion: \\\n",
    "     From above pie charts we see that, South USA is lagging behind in terms of Sales.\n",
    "    Whereas, Central USA is lagging behind in terms of Profit.\\\n",
    "    We should further examine these regions for better insight.</b>\n",
    "    "
   ]
  },
  {
   "cell_type": "markdown",
   "id": "6f6bf435",
   "metadata": {},
   "source": [
    "<font color='green'><li><b> Analyzing Statewise Sales Data and Profit Data for South US. </b></li></font>"
   ]
  },
  {
   "cell_type": "code",
   "execution_count": 33,
   "id": "1b419b8c",
   "metadata": {},
   "outputs": [
    {
     "data": {
      "text/html": [
       "<div>\n",
       "<style scoped>\n",
       "    .dataframe tbody tr th:only-of-type {\n",
       "        vertical-align: middle;\n",
       "    }\n",
       "\n",
       "    .dataframe tbody tr th {\n",
       "        vertical-align: top;\n",
       "    }\n",
       "\n",
       "    .dataframe thead th {\n",
       "        text-align: right;\n",
       "    }\n",
       "</style>\n",
       "<table border=\"1\" class=\"dataframe\">\n",
       "  <thead>\n",
       "    <tr style=\"text-align: right;\">\n",
       "      <th></th>\n",
       "      <th>Ship Mode</th>\n",
       "      <th>Segment</th>\n",
       "      <th>Country</th>\n",
       "      <th>City</th>\n",
       "      <th>State</th>\n",
       "      <th>Postal Code</th>\n",
       "      <th>Region</th>\n",
       "      <th>Category</th>\n",
       "      <th>Sub-Category</th>\n",
       "      <th>Sales</th>\n",
       "      <th>Quantity</th>\n",
       "      <th>Discount</th>\n",
       "      <th>Profit</th>\n",
       "    </tr>\n",
       "  </thead>\n",
       "  <tbody>\n",
       "    <tr>\n",
       "      <th>0</th>\n",
       "      <td>Second Class</td>\n",
       "      <td>Consumer</td>\n",
       "      <td>United States</td>\n",
       "      <td>Henderson</td>\n",
       "      <td>Kentucky</td>\n",
       "      <td>42420</td>\n",
       "      <td>South</td>\n",
       "      <td>Furniture</td>\n",
       "      <td>Bookcases</td>\n",
       "      <td>261.9600</td>\n",
       "      <td>2</td>\n",
       "      <td>0.00</td>\n",
       "      <td>41.9136</td>\n",
       "    </tr>\n",
       "    <tr>\n",
       "      <th>1</th>\n",
       "      <td>Second Class</td>\n",
       "      <td>Consumer</td>\n",
       "      <td>United States</td>\n",
       "      <td>Henderson</td>\n",
       "      <td>Kentucky</td>\n",
       "      <td>42420</td>\n",
       "      <td>South</td>\n",
       "      <td>Furniture</td>\n",
       "      <td>Chairs</td>\n",
       "      <td>731.9400</td>\n",
       "      <td>3</td>\n",
       "      <td>0.00</td>\n",
       "      <td>219.5820</td>\n",
       "    </tr>\n",
       "    <tr>\n",
       "      <th>3</th>\n",
       "      <td>Standard Class</td>\n",
       "      <td>Consumer</td>\n",
       "      <td>United States</td>\n",
       "      <td>Fort Lauderdale</td>\n",
       "      <td>Florida</td>\n",
       "      <td>33311</td>\n",
       "      <td>South</td>\n",
       "      <td>Furniture</td>\n",
       "      <td>Tables</td>\n",
       "      <td>957.5775</td>\n",
       "      <td>5</td>\n",
       "      <td>0.45</td>\n",
       "      <td>-383.0310</td>\n",
       "    </tr>\n",
       "    <tr>\n",
       "      <th>4</th>\n",
       "      <td>Standard Class</td>\n",
       "      <td>Consumer</td>\n",
       "      <td>United States</td>\n",
       "      <td>Fort Lauderdale</td>\n",
       "      <td>Florida</td>\n",
       "      <td>33311</td>\n",
       "      <td>South</td>\n",
       "      <td>Office Supplies</td>\n",
       "      <td>Storage</td>\n",
       "      <td>22.3680</td>\n",
       "      <td>2</td>\n",
       "      <td>0.20</td>\n",
       "      <td>2.5164</td>\n",
       "    </tr>\n",
       "    <tr>\n",
       "      <th>12</th>\n",
       "      <td>Standard Class</td>\n",
       "      <td>Consumer</td>\n",
       "      <td>United States</td>\n",
       "      <td>Concord</td>\n",
       "      <td>North Carolina</td>\n",
       "      <td>28027</td>\n",
       "      <td>South</td>\n",
       "      <td>Office Supplies</td>\n",
       "      <td>Paper</td>\n",
       "      <td>15.5520</td>\n",
       "      <td>3</td>\n",
       "      <td>0.20</td>\n",
       "      <td>5.4432</td>\n",
       "    </tr>\n",
       "  </tbody>\n",
       "</table>\n",
       "</div>"
      ],
      "text/plain": [
       "         Ship Mode   Segment        Country             City           State  \\\n",
       "0     Second Class  Consumer  United States        Henderson        Kentucky   \n",
       "1     Second Class  Consumer  United States        Henderson        Kentucky   \n",
       "3   Standard Class  Consumer  United States  Fort Lauderdale         Florida   \n",
       "4   Standard Class  Consumer  United States  Fort Lauderdale         Florida   \n",
       "12  Standard Class  Consumer  United States          Concord  North Carolina   \n",
       "\n",
       "   Postal Code Region         Category Sub-Category     Sales  Quantity  \\\n",
       "0        42420  South        Furniture    Bookcases  261.9600         2   \n",
       "1        42420  South        Furniture       Chairs  731.9400         3   \n",
       "3        33311  South        Furniture       Tables  957.5775         5   \n",
       "4        33311  South  Office Supplies      Storage   22.3680         2   \n",
       "12       28027  South  Office Supplies        Paper   15.5520         3   \n",
       "\n",
       "    Discount    Profit  \n",
       "0       0.00   41.9136  \n",
       "1       0.00  219.5820  \n",
       "3       0.45 -383.0310  \n",
       "4       0.20    2.5164  \n",
       "12      0.20    5.4432  "
      ]
     },
     "execution_count": 33,
     "metadata": {},
     "output_type": "execute_result"
    }
   ],
   "source": [
    "#Analyzing Statewise Sales Data and Profit Data.\n",
    "\n",
    "df3=data[(data['Region']=='South')]\n",
    "df3.head()"
   ]
  },
  {
   "cell_type": "code",
   "execution_count": 34,
   "id": "1f70b336",
   "metadata": {},
   "outputs": [
    {
     "data": {
      "text/html": [
       "<div>\n",
       "<style scoped>\n",
       "    .dataframe tbody tr th:only-of-type {\n",
       "        vertical-align: middle;\n",
       "    }\n",
       "\n",
       "    .dataframe tbody tr th {\n",
       "        vertical-align: top;\n",
       "    }\n",
       "\n",
       "    .dataframe thead th {\n",
       "        text-align: right;\n",
       "    }\n",
       "</style>\n",
       "<table border=\"1\" class=\"dataframe\">\n",
       "  <thead>\n",
       "    <tr style=\"text-align: right;\">\n",
       "      <th></th>\n",
       "      <th>Profit</th>\n",
       "      <th>Sales</th>\n",
       "    </tr>\n",
       "    <tr>\n",
       "      <th>State</th>\n",
       "      <th></th>\n",
       "      <th></th>\n",
       "    </tr>\n",
       "  </thead>\n",
       "  <tbody>\n",
       "    <tr>\n",
       "      <th>Alabama</th>\n",
       "      <td>5786.8253</td>\n",
       "      <td>19510.640</td>\n",
       "    </tr>\n",
       "    <tr>\n",
       "      <th>Arkansas</th>\n",
       "      <td>4008.6871</td>\n",
       "      <td>11678.130</td>\n",
       "    </tr>\n",
       "    <tr>\n",
       "      <th>Florida</th>\n",
       "      <td>-3399.3017</td>\n",
       "      <td>89473.708</td>\n",
       "    </tr>\n",
       "    <tr>\n",
       "      <th>Georgia</th>\n",
       "      <td>16250.0433</td>\n",
       "      <td>49095.840</td>\n",
       "    </tr>\n",
       "    <tr>\n",
       "      <th>Kentucky</th>\n",
       "      <td>11199.6966</td>\n",
       "      <td>36591.750</td>\n",
       "    </tr>\n",
       "    <tr>\n",
       "      <th>Louisiana</th>\n",
       "      <td>2196.1023</td>\n",
       "      <td>9217.030</td>\n",
       "    </tr>\n",
       "    <tr>\n",
       "      <th>Mississippi</th>\n",
       "      <td>3172.9762</td>\n",
       "      <td>10771.340</td>\n",
       "    </tr>\n",
       "    <tr>\n",
       "      <th>North Carolina</th>\n",
       "      <td>-7490.9122</td>\n",
       "      <td>55603.164</td>\n",
       "    </tr>\n",
       "    <tr>\n",
       "      <th>South Carolina</th>\n",
       "      <td>1769.0566</td>\n",
       "      <td>8481.710</td>\n",
       "    </tr>\n",
       "    <tr>\n",
       "      <th>Tennessee</th>\n",
       "      <td>-5341.6936</td>\n",
       "      <td>30661.873</td>\n",
       "    </tr>\n",
       "    <tr>\n",
       "      <th>Virginia</th>\n",
       "      <td>18597.9504</td>\n",
       "      <td>70636.720</td>\n",
       "    </tr>\n",
       "  </tbody>\n",
       "</table>\n",
       "</div>"
      ],
      "text/plain": [
       "                    Profit      Sales\n",
       "State                                \n",
       "Alabama          5786.8253  19510.640\n",
       "Arkansas         4008.6871  11678.130\n",
       "Florida         -3399.3017  89473.708\n",
       "Georgia         16250.0433  49095.840\n",
       "Kentucky        11199.6966  36591.750\n",
       "Louisiana        2196.1023   9217.030\n",
       "Mississippi      3172.9762  10771.340\n",
       "North Carolina  -7490.9122  55603.164\n",
       "South Carolina   1769.0566   8481.710\n",
       "Tennessee       -5341.6936  30661.873\n",
       "Virginia        18597.9504  70636.720"
      ]
     },
     "execution_count": 34,
     "metadata": {},
     "output_type": "execute_result"
    }
   ],
   "source": [
    "df4=df3.groupby([\"State\"])[['Profit','Sales']].agg('sum')\n",
    "df4"
   ]
  },
  {
   "cell_type": "code",
   "execution_count": 35,
   "id": "8c69eabc",
   "metadata": {},
   "outputs": [
    {
     "data": {
      "image/png": "[encoded data removed]",
      "text/plain": [
       "<Figure size 936x432 with 1 Axes>"
      ]
     },
     "metadata": {
      "needs_background": "light"
     },
     "output_type": "display_data"
    }
   ],
   "source": [
    "df4.groupby('State').sum().plot(kind='bar',figsize=(13,6))\n",
    "plt.title('State wise Sales report for South US ')\n",
    "plt.show()"
   ]
  },
  {
   "cell_type": "markdown",
   "id": "efdd5dd3",
   "metadata": {},
   "source": [
    "<b>Conclusion: \\\n",
    "    <li>From the above visualizations we can see that Sales and Profits are both very low in Arkansas,Lousiana,Mississippi\n",
    "        and South Carolina. So we should improve our campaign in those states.</li>\n",
    "    <li>Inspite of having huge sales in Florida, profit is running negative.\n",
    "    Similar is the case with North Carolina and Tennessee. Hence, further inverstigation in those states\n",
    "        will be crucial.</li></b>"
   ]
  },
  {
   "cell_type": "markdown",
   "id": "e0f7dc75",
   "metadata": {},
   "source": [
    "<font color='green'><li><b> Analyzing Statewise Sales Data and Profit Data for Central US. </b></li></font>"
   ]
  },
  {
   "cell_type": "code",
   "execution_count": 36,
   "id": "605d1837",
   "metadata": {},
   "outputs": [
    {
     "data": {
      "text/html": [
       "<div>\n",
       "<style scoped>\n",
       "    .dataframe tbody tr th:only-of-type {\n",
       "        vertical-align: middle;\n",
       "    }\n",
       "\n",
       "    .dataframe tbody tr th {\n",
       "        vertical-align: top;\n",
       "    }\n",
       "\n",
       "    .dataframe thead th {\n",
       "        text-align: right;\n",
       "    }\n",
       "</style>\n",
       "<table border=\"1\" class=\"dataframe\">\n",
       "  <thead>\n",
       "    <tr style=\"text-align: right;\">\n",
       "      <th></th>\n",
       "      <th>Ship Mode</th>\n",
       "      <th>Segment</th>\n",
       "      <th>Country</th>\n",
       "      <th>City</th>\n",
       "      <th>State</th>\n",
       "      <th>Postal Code</th>\n",
       "      <th>Region</th>\n",
       "      <th>Category</th>\n",
       "      <th>Sub-Category</th>\n",
       "      <th>Sales</th>\n",
       "      <th>Quantity</th>\n",
       "      <th>Discount</th>\n",
       "      <th>Profit</th>\n",
       "    </tr>\n",
       "  </thead>\n",
       "  <tbody>\n",
       "    <tr>\n",
       "      <th>14</th>\n",
       "      <td>Standard Class</td>\n",
       "      <td>Home Office</td>\n",
       "      <td>United States</td>\n",
       "      <td>Fort Worth</td>\n",
       "      <td>Texas</td>\n",
       "      <td>76106</td>\n",
       "      <td>Central</td>\n",
       "      <td>Office Supplies</td>\n",
       "      <td>Appliances</td>\n",
       "      <td>68.810</td>\n",
       "      <td>5</td>\n",
       "      <td>0.8</td>\n",
       "      <td>-123.8580</td>\n",
       "    </tr>\n",
       "    <tr>\n",
       "      <th>15</th>\n",
       "      <td>Standard Class</td>\n",
       "      <td>Home Office</td>\n",
       "      <td>United States</td>\n",
       "      <td>Fort Worth</td>\n",
       "      <td>Texas</td>\n",
       "      <td>76106</td>\n",
       "      <td>Central</td>\n",
       "      <td>Office Supplies</td>\n",
       "      <td>Binders</td>\n",
       "      <td>2.544</td>\n",
       "      <td>3</td>\n",
       "      <td>0.8</td>\n",
       "      <td>-3.8160</td>\n",
       "    </tr>\n",
       "    <tr>\n",
       "      <th>16</th>\n",
       "      <td>Standard Class</td>\n",
       "      <td>Consumer</td>\n",
       "      <td>United States</td>\n",
       "      <td>Madison</td>\n",
       "      <td>Wisconsin</td>\n",
       "      <td>53711</td>\n",
       "      <td>Central</td>\n",
       "      <td>Office Supplies</td>\n",
       "      <td>Storage</td>\n",
       "      <td>665.880</td>\n",
       "      <td>6</td>\n",
       "      <td>0.0</td>\n",
       "      <td>13.3176</td>\n",
       "    </tr>\n",
       "    <tr>\n",
       "      <th>21</th>\n",
       "      <td>Standard Class</td>\n",
       "      <td>Corporate</td>\n",
       "      <td>United States</td>\n",
       "      <td>Fremont</td>\n",
       "      <td>Nebraska</td>\n",
       "      <td>68025</td>\n",
       "      <td>Central</td>\n",
       "      <td>Office Supplies</td>\n",
       "      <td>Art</td>\n",
       "      <td>19.460</td>\n",
       "      <td>7</td>\n",
       "      <td>0.0</td>\n",
       "      <td>5.0596</td>\n",
       "    </tr>\n",
       "    <tr>\n",
       "      <th>22</th>\n",
       "      <td>Standard Class</td>\n",
       "      <td>Corporate</td>\n",
       "      <td>United States</td>\n",
       "      <td>Fremont</td>\n",
       "      <td>Nebraska</td>\n",
       "      <td>68025</td>\n",
       "      <td>Central</td>\n",
       "      <td>Office Supplies</td>\n",
       "      <td>Appliances</td>\n",
       "      <td>60.340</td>\n",
       "      <td>7</td>\n",
       "      <td>0.0</td>\n",
       "      <td>15.6884</td>\n",
       "    </tr>\n",
       "  </tbody>\n",
       "</table>\n",
       "</div>"
      ],
      "text/plain": [
       "         Ship Mode      Segment        Country        City      State  \\\n",
       "14  Standard Class  Home Office  United States  Fort Worth      Texas   \n",
       "15  Standard Class  Home Office  United States  Fort Worth      Texas   \n",
       "16  Standard Class     Consumer  United States     Madison  Wisconsin   \n",
       "21  Standard Class    Corporate  United States     Fremont   Nebraska   \n",
       "22  Standard Class    Corporate  United States     Fremont   Nebraska   \n",
       "\n",
       "   Postal Code   Region         Category Sub-Category    Sales  Quantity  \\\n",
       "14       76106  Central  Office Supplies   Appliances   68.810         5   \n",
       "15       76106  Central  Office Supplies      Binders    2.544         3   \n",
       "16       53711  Central  Office Supplies      Storage  665.880         6   \n",
       "21       68025  Central  Office Supplies          Art   19.460         7   \n",
       "22       68025  Central  Office Supplies   Appliances   60.340         7   \n",
       "\n",
       "    Discount    Profit  \n",
       "14       0.8 -123.8580  \n",
       "15       0.8   -3.8160  \n",
       "16       0.0   13.3176  \n",
       "21       0.0    5.0596  \n",
       "22       0.0   15.6884  "
      ]
     },
     "execution_count": 36,
     "metadata": {},
     "output_type": "execute_result"
    }
   ],
   "source": [
    "df5=data[(data['Region']=='Central')]\n",
    "df5.head()"
   ]
  },
  {
   "cell_type": "code",
   "execution_count": 37,
   "id": "8b3f1da3",
   "metadata": {},
   "outputs": [
    {
     "data": {
      "text/html": [
       "<div>\n",
       "<style scoped>\n",
       "    .dataframe tbody tr th:only-of-type {\n",
       "        vertical-align: middle;\n",
       "    }\n",
       "\n",
       "    .dataframe tbody tr th {\n",
       "        vertical-align: top;\n",
       "    }\n",
       "\n",
       "    .dataframe thead th {\n",
       "        text-align: right;\n",
       "    }\n",
       "</style>\n",
       "<table border=\"1\" class=\"dataframe\">\n",
       "  <thead>\n",
       "    <tr style=\"text-align: right;\">\n",
       "      <th></th>\n",
       "      <th>Profit</th>\n",
       "      <th>Sales</th>\n",
       "    </tr>\n",
       "    <tr>\n",
       "      <th>State</th>\n",
       "      <th></th>\n",
       "      <th></th>\n",
       "    </tr>\n",
       "  </thead>\n",
       "  <tbody>\n",
       "    <tr>\n",
       "      <th>Illinois</th>\n",
       "      <td>-12601.6500</td>\n",
       "      <td>80162.5370</td>\n",
       "    </tr>\n",
       "    <tr>\n",
       "      <th>Indiana</th>\n",
       "      <td>18382.9363</td>\n",
       "      <td>53555.3600</td>\n",
       "    </tr>\n",
       "    <tr>\n",
       "      <th>Iowa</th>\n",
       "      <td>1183.8119</td>\n",
       "      <td>4579.7600</td>\n",
       "    </tr>\n",
       "    <tr>\n",
       "      <th>Kansas</th>\n",
       "      <td>836.4435</td>\n",
       "      <td>2914.3100</td>\n",
       "    </tr>\n",
       "    <tr>\n",
       "      <th>Michigan</th>\n",
       "      <td>24428.0903</td>\n",
       "      <td>75879.6440</td>\n",
       "    </tr>\n",
       "    <tr>\n",
       "      <th>Minnesota</th>\n",
       "      <td>10823.1874</td>\n",
       "      <td>29863.1500</td>\n",
       "    </tr>\n",
       "    <tr>\n",
       "      <th>Missouri</th>\n",
       "      <td>6436.2105</td>\n",
       "      <td>22205.1500</td>\n",
       "    </tr>\n",
       "    <tr>\n",
       "      <th>Nebraska</th>\n",
       "      <td>2037.0942</td>\n",
       "      <td>7464.9300</td>\n",
       "    </tr>\n",
       "    <tr>\n",
       "      <th>North Dakota</th>\n",
       "      <td>230.1497</td>\n",
       "      <td>919.9100</td>\n",
       "    </tr>\n",
       "    <tr>\n",
       "      <th>Oklahoma</th>\n",
       "      <td>4853.9560</td>\n",
       "      <td>19683.3900</td>\n",
       "    </tr>\n",
       "    <tr>\n",
       "      <th>South Dakota</th>\n",
       "      <td>394.8283</td>\n",
       "      <td>1315.5600</td>\n",
       "    </tr>\n",
       "    <tr>\n",
       "      <th>Texas</th>\n",
       "      <td>-25750.9833</td>\n",
       "      <td>170124.5418</td>\n",
       "    </tr>\n",
       "    <tr>\n",
       "      <th>Wisconsin</th>\n",
       "      <td>8401.8004</td>\n",
       "      <td>32114.6100</td>\n",
       "    </tr>\n",
       "  </tbody>\n",
       "</table>\n",
       "</div>"
      ],
      "text/plain": [
       "                  Profit        Sales\n",
       "State                                \n",
       "Illinois     -12601.6500   80162.5370\n",
       "Indiana       18382.9363   53555.3600\n",
       "Iowa           1183.8119    4579.7600\n",
       "Kansas          836.4435    2914.3100\n",
       "Michigan      24428.0903   75879.6440\n",
       "Minnesota     10823.1874   29863.1500\n",
       "Missouri       6436.2105   22205.1500\n",
       "Nebraska       2037.0942    7464.9300\n",
       "North Dakota    230.1497     919.9100\n",
       "Oklahoma       4853.9560   19683.3900\n",
       "South Dakota    394.8283    1315.5600\n",
       "Texas        -25750.9833  170124.5418\n",
       "Wisconsin      8401.8004   32114.6100"
      ]
     },
     "execution_count": 37,
     "metadata": {},
     "output_type": "execute_result"
    }
   ],
   "source": [
    "df6=df5.groupby([\"State\"])[['Profit','Sales']].agg('sum')\n",
    "df6"
   ]
  },
  {
   "cell_type": "code",
   "execution_count": 38,
   "id": "e4f52dd6",
   "metadata": {},
   "outputs": [
    {
     "data": {
      "image/png": "[encoded data removed]",
      "text/plain": [
       "<Figure size 936x432 with 1 Axes>"
      ]
     },
     "metadata": {
      "needs_background": "light"
     },
     "output_type": "display_data"
    }
   ],
   "source": [
    "df6.groupby('State').sum().plot(kind='bar',figsize=(13,6))\n",
    "plt.title('Statewise Sales report for Central US')\n",
    "plt.xlabel('Central Us States')\n",
    "plt.ylabel('State wise Profit')\n",
    "plt.show()"
   ]
  },
  {
   "cell_type": "markdown",
   "id": "71501aed",
   "metadata": {},
   "source": [
    "<b>Conclusion: \\\n",
    "    <li>From the above visualization we can see that Sales and Profits are both very low in Iowa, Kansas, Nebraska, North Dakota, Oklahoma, South Dakota. So we should improve our campaign in those States.</li>\n",
    "    <li>Inspite of having huge sales in Texas, profit is running negative.\n",
    "    Similar is the case with Illinois. Hence, further inverstigation is crucial.</li></b>"
   ]
  },
  {
   "cell_type": "markdown",
   "id": "244a2212",
   "metadata": {},
   "source": [
    "<h4 style=\"color:green;\"><li><B> Citywise Sales and Profit Data Analysis (South and Central US) </B></li></h4>"
   ]
  },
  {
   "cell_type": "code",
   "execution_count": 39,
   "id": "08731f84",
   "metadata": {},
   "outputs": [],
   "source": [
    "df7=df3.groupby(['City'])[['Sales', 'Profit']].agg('sum')\n",
    "df8=df5.groupby(['City'])[['Sales', 'Profit']].agg('sum')\n",
    "com_df=pd.concat([df7,df8],axis=0)\n",
    "sorted_df_1 = com_df.sort_values(by=['Sales'])"
   ]
  },
  {
   "cell_type": "code",
   "execution_count": 40,
   "id": "552999ac-1013-4415-9775-c387e577f2f2",
   "metadata": {},
   "outputs": [
    {
     "data": {
      "text/html": [
       "<div>\n",
       "<style scoped>\n",
       "    .dataframe tbody tr th:only-of-type {\n",
       "        vertical-align: middle;\n",
       "    }\n",
       "\n",
       "    .dataframe tbody tr th {\n",
       "        vertical-align: top;\n",
       "    }\n",
       "\n",
       "    .dataframe thead th {\n",
       "        text-align: right;\n",
       "    }\n",
       "</style>\n",
       "<table border=\"1\" class=\"dataframe\">\n",
       "  <thead>\n",
       "    <tr style=\"text-align: right;\">\n",
       "      <th></th>\n",
       "      <th>Sales</th>\n",
       "      <th>Profit</th>\n",
       "    </tr>\n",
       "    <tr>\n",
       "      <th>City</th>\n",
       "      <th></th>\n",
       "      <th></th>\n",
       "    </tr>\n",
       "  </thead>\n",
       "  <tbody>\n",
       "    <tr>\n",
       "      <th>Abilene</th>\n",
       "      <td>1.3920</td>\n",
       "      <td>-3.7584</td>\n",
       "    </tr>\n",
       "    <tr>\n",
       "      <th>Jupiter</th>\n",
       "      <td>2.0640</td>\n",
       "      <td>0.1548</td>\n",
       "    </tr>\n",
       "    <tr>\n",
       "      <th>Pensacola</th>\n",
       "      <td>2.2140</td>\n",
       "      <td>-1.4760</td>\n",
       "    </tr>\n",
       "    <tr>\n",
       "      <th>Ormond Beach</th>\n",
       "      <td>2.8080</td>\n",
       "      <td>-1.9656</td>\n",
       "    </tr>\n",
       "    <tr>\n",
       "      <th>Springdale</th>\n",
       "      <td>4.3000</td>\n",
       "      <td>1.4190</td>\n",
       "    </tr>\n",
       "    <tr>\n",
       "      <th>...</th>\n",
       "      <td>...</td>\n",
       "      <td>...</td>\n",
       "    </tr>\n",
       "    <tr>\n",
       "      <th>San Antonio</th>\n",
       "      <td>21843.5280</td>\n",
       "      <td>-7299.0502</td>\n",
       "    </tr>\n",
       "    <tr>\n",
       "      <th>Detroit</th>\n",
       "      <td>42056.9740</td>\n",
       "      <td>13146.6935</td>\n",
       "    </tr>\n",
       "    <tr>\n",
       "      <th>Jacksonville</th>\n",
       "      <td>44713.1830</td>\n",
       "      <td>-2323.8350</td>\n",
       "    </tr>\n",
       "    <tr>\n",
       "      <th>Chicago</th>\n",
       "      <td>48535.9770</td>\n",
       "      <td>-6648.3318</td>\n",
       "    </tr>\n",
       "    <tr>\n",
       "      <th>Houston</th>\n",
       "      <td>64441.2564</td>\n",
       "      <td>-10175.1755</td>\n",
       "    </tr>\n",
       "  </tbody>\n",
       "</table>\n",
       "<p>306 rows × 2 columns</p>\n",
       "</div>"
      ],
      "text/plain": [
       "                   Sales      Profit\n",
       "City                                \n",
       "Abilene           1.3920     -3.7584\n",
       "Jupiter           2.0640      0.1548\n",
       "Pensacola         2.2140     -1.4760\n",
       "Ormond Beach      2.8080     -1.9656\n",
       "Springdale        4.3000      1.4190\n",
       "...                  ...         ...\n",
       "San Antonio   21843.5280  -7299.0502\n",
       "Detroit       42056.9740  13146.6935\n",
       "Jacksonville  44713.1830  -2323.8350\n",
       "Chicago       48535.9770  -6648.3318\n",
       "Houston       64441.2564 -10175.1755\n",
       "\n",
       "[306 rows x 2 columns]"
      ]
     },
     "execution_count": 40,
     "metadata": {},
     "output_type": "execute_result"
    }
   ],
   "source": [
    "sorted_df_1"
   ]
  },
  {
   "cell_type": "code",
   "execution_count": 41,
   "id": "cea5d81f-4915-42bd-b4ee-77be7813eae2",
   "metadata": {},
   "outputs": [
    {
     "data": {
      "image/png": "[encoded data removed]",
      "text/plain": [
       "<Figure size 1080x432 with 1 Axes>"
      ]
     },
     "metadata": {
      "needs_background": "light"
     },
     "output_type": "display_data"
    }
   ],
   "source": [
    "sorted_df_1.iloc[0:20,0].plot(kind='bar',figsize=(15,6),title=\"Cities with least Sales in Central and South US\",ylabel=\"US Dollars\",color=\"purple\")\n",
    "plt.show()"
   ]
  },
  {
   "cell_type": "code",
   "execution_count": 42,
   "id": "57ad2a37-a07d-4cc2-9cb5-44185aa10ef7",
   "metadata": {},
   "outputs": [
    {
     "data": {
      "text/html": [
       "<div>\n",
       "<style scoped>\n",
       "    .dataframe tbody tr th:only-of-type {\n",
       "        vertical-align: middle;\n",
       "    }\n",
       "\n",
       "    .dataframe tbody tr th {\n",
       "        vertical-align: top;\n",
       "    }\n",
       "\n",
       "    .dataframe thead th {\n",
       "        text-align: right;\n",
       "    }\n",
       "</style>\n",
       "<table border=\"1\" class=\"dataframe\">\n",
       "  <thead>\n",
       "    <tr style=\"text-align: right;\">\n",
       "      <th></th>\n",
       "      <th>Sales</th>\n",
       "      <th>Profit</th>\n",
       "    </tr>\n",
       "    <tr>\n",
       "      <th>City</th>\n",
       "      <th></th>\n",
       "      <th></th>\n",
       "    </tr>\n",
       "  </thead>\n",
       "  <tbody>\n",
       "    <tr>\n",
       "      <th>Houston</th>\n",
       "      <td>64441.2564</td>\n",
       "      <td>-10175.1755</td>\n",
       "    </tr>\n",
       "    <tr>\n",
       "      <th>San Antonio</th>\n",
       "      <td>21843.5280</td>\n",
       "      <td>-7299.0502</td>\n",
       "    </tr>\n",
       "    <tr>\n",
       "      <th>Chicago</th>\n",
       "      <td>48535.9770</td>\n",
       "      <td>-6648.3318</td>\n",
       "    </tr>\n",
       "    <tr>\n",
       "      <th>Burlington</th>\n",
       "      <td>12681.2820</td>\n",
       "      <td>-5894.5269</td>\n",
       "    </tr>\n",
       "    <tr>\n",
       "      <th>Dallas</th>\n",
       "      <td>20131.9322</td>\n",
       "      <td>-2846.5257</td>\n",
       "    </tr>\n",
       "    <tr>\n",
       "      <th>...</th>\n",
       "      <td>...</td>\n",
       "      <td>...</td>\n",
       "    </tr>\n",
       "    <tr>\n",
       "      <th>Jackson</th>\n",
       "      <td>15420.0360</td>\n",
       "      <td>5525.1992</td>\n",
       "    </tr>\n",
       "    <tr>\n",
       "      <th>Minneapolis</th>\n",
       "      <td>16870.5400</td>\n",
       "      <td>6824.5846</td>\n",
       "    </tr>\n",
       "    <tr>\n",
       "      <th>Atlanta</th>\n",
       "      <td>17197.8400</td>\n",
       "      <td>6993.6629</td>\n",
       "    </tr>\n",
       "    <tr>\n",
       "      <th>Lafayette</th>\n",
       "      <td>19630.4500</td>\n",
       "      <td>8976.0973</td>\n",
       "    </tr>\n",
       "    <tr>\n",
       "      <th>Detroit</th>\n",
       "      <td>42056.9740</td>\n",
       "      <td>13146.6935</td>\n",
       "    </tr>\n",
       "  </tbody>\n",
       "</table>\n",
       "<p>306 rows × 2 columns</p>\n",
       "</div>"
      ],
      "text/plain": [
       "                  Sales      Profit\n",
       "City                               \n",
       "Houston      64441.2564 -10175.1755\n",
       "San Antonio  21843.5280  -7299.0502\n",
       "Chicago      48535.9770  -6648.3318\n",
       "Burlington   12681.2820  -5894.5269\n",
       "Dallas       20131.9322  -2846.5257\n",
       "...                 ...         ...\n",
       "Jackson      15420.0360   5525.1992\n",
       "Minneapolis  16870.5400   6824.5846\n",
       "Atlanta      17197.8400   6993.6629\n",
       "Lafayette    19630.4500   8976.0973\n",
       "Detroit      42056.9740  13146.6935\n",
       "\n",
       "[306 rows x 2 columns]"
      ]
     },
     "execution_count": 42,
     "metadata": {},
     "output_type": "execute_result"
    }
   ],
   "source": [
    "sorted_df_2 = com_df.sort_values(by=['Profit'])\n",
    "sorted_df_2"
   ]
  },
  {
   "cell_type": "code",
   "execution_count": 43,
   "id": "48c8d161-7ec9-4180-b304-f1c06110f9be",
   "metadata": {},
   "outputs": [
    {
     "data": {
      "image/png": "[encoded data removed]",
      "text/plain": [
       "<Figure size 1080x432 with 1 Axes>"
      ]
     },
     "metadata": {
      "needs_background": "light"
     },
     "output_type": "display_data"
    }
   ],
   "source": [
    "sorted_df_2.iloc[0:20,1].plot(kind='bar',figsize=(15,6),title=\"Cities with least profit in Central and South US\",ylabel=\"US Dollars\",color='purple')\n",
    "plt.show()"
   ]
  },
  {
   "cell_type": "markdown",
   "id": "e8fa6a5a",
   "metadata": {},
   "source": [
    "<b>Conclusions \n",
    "<li>Our Sales from corporetes and home-offices are low, we may campaign or targeted advertisement to attract them.\\\n",
    "    Also, gathering further informations might be helpful for further investigation.</li>\n",
    "\n",
    "<li>Even though order counts for technology products are low, most of our Sales and Profit comes from them. So we should further strengthen our tech section.</li>\n",
    "\n",
    "Our Sales are weak in Central and South US, let us narrow down on these regions.\n",
    "\n",
    "<li>Our Sales and Profits are both very low in Arkansas, Lousiana, Mississippi and South Carolina, Iowa, Kansas, Nebraska, North Dakota and South Dakota so we should gather more informations of number of returns, supply chain, finance for better understanding.\\\n",
    "Intersting thing is that in Florida, North Carolina and Tennessee, Illinois, and Texas, even though our sales are high, we incurred loss. Hence, more data regarding demand, supply chain, number of returns, finance.</li>\n",
    "\n",
    "<li>Our sales are really lackluster in cities like Abilene, Keller, MissouriCity, Deer Park, Romeoville, Iowa City, Baytown, Arlington Heights, Grand Island, Portage et cetera.\n",
    "Also, We suffered heavy loss in cities like Houston, San Antonio, Chicago, Dallas, Aurora, Round Rock, Rockford, Huntsville, Oswego, Waco. We might dig deeper into details of sales affecting phenomena at these places.</li>\n",
    "\n",
    "<li> We should stick with 0-20% discount, more discounts are not really profitable. </li></b>"
   ]
  },
  {
   "cell_type": "markdown",
   "id": "ac5ad1a7",
   "metadata": {},
   "source": [
    "<font color='green'><h1> Thank You! </h1></font>"
   ]
  }
 ],
 "metadata": {
  "kernelspec": {
   "display_name": "Python 3",
   "language": "python",
   "name": "python3"
  },
  "language_info": {
   "codemirror_mode": {
    "name": "ipython",
    "version": 3
   },
   "file_extension": ".py",
   "mimetype": "text/x-python",
   "name": "python",
   "nbconvert_exporter": "python",
   "pygments_lexer": "ipython3",
   "version": "3.9.5"
  }
 },
 "nbformat": 4,
 "nbformat_minor": 5
}
